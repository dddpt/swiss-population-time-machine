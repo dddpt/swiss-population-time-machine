{
 "cells": [
  {
   "cell_type": "code",
   "execution_count": 199,
   "metadata": {},
   "outputs": [],
   "source": [
    "import math\n",
    "import json\n",
    "import re\n",
    "import copy\n",
    "\n",
    "import numpy as np\n",
    "import pandas as pd\n",
    "import sklearn as sk\n",
    "import matplotlib.pyplot as plt\n",
    "import seaborn as sns\n",
    "\n",
    "sns.set(style=\"darkgrid\")\n",
    "\n",
    "# Load an example dataset with long-form data\n",
    "#fmri = sns.load_dataset(\"fmri\")\n",
    "\n",
    "# Plot the responses for different events and regions\n",
    "#plt = sns.lineplot(x=\"timepoint\", y=\"signal\",\n",
    "#             hue=\"region\", style=\"event\",\n",
    "#             data=fmri)\n",
    "\n",
    "\n",
    "#plt.show()"
   ]
  },
  {
   "cell_type": "code",
   "execution_count": 200,
   "metadata": {},
   "outputs": [],
   "source": [
    "\n",
    "#with open('../1_pop_cleaning/communes_VD_clean.json', 'r') as cf:\n",
    "#    communes = json.load(cf)\n",
    "#    for c in communes:\n",
    "#        for hy in c[\"hab_year\"]:\n",
    "#            hy[\"pop\"] = int(hy[\"pop\"])\n",
    "#            hy[\"year\"] = int(hy[\"year\"])\n",
    "#cdata = pd.DataFrame(communes)\n",
    "#cdata"
   ]
  },
  {
   "cell_type": "code",
   "execution_count": 225,
   "metadata": {},
   "outputs": [],
   "source": [
    "class HabYear:\n",
    "    def __init__(self, json_hy):\n",
    "        self.year = int(json_hy[\"year\"])            \n",
    "        self.pop = int(json_hy[\"pop\"]),\n",
    "        self.unit = json_hy[\"unit\"].strip() if \"unit\" in json_hy else \"undefined\"\n",
    "\n",
    "class Commune:\n",
    "    COMMUNES_NAME_REGEX = re.compile(r\"\\W\\(?Gemeinde\\)?\")\n",
    "    def __init__(self, json_commune):\n",
    "        self.name = self.COMMUNES_NAME_REGEX.sub(\"\",json_commune[\"name\"])\n",
    "        self.canton = json_commune[\"canton\"]\n",
    "        self.url = json_commune[\"url\"]\n",
    "        self.firstmention = json_commune[\"firstmention\"] if \"firstmention\" in json_commune else None\n",
    "        self.notes = json_commune[\"notes\"] if \"notes\" in json_commune else \"\"\n",
    "        self.hab_year = [HabYear(hy) for hy in json_commune[\"hab_year\"]]\n",
    "        self.raw_hab_year = copy.deepcopy(commune[\"hab_year\"])\n",
    "        "
   ]
  },
  {
   "cell_type": "markdown",
   "metadata": {},
   "source": [
    "# Loading data & assembling reviewedCommunes with non-reviewed communes"
   ]
  },
  {
   "cell_type": "code",
   "execution_count": 221,
   "metadata": {},
   "outputs": [],
   "source": [
    "\n",
    "#with open('../1_pop_cleaning/communes_V2_checkpoint_1555579436131.json', 'r') as cf:\n",
    "with open('../1_pop_cleaning/communes_V2_checkpoint_1558469560478.json', 'r') as cf:\n",
    "    data = json.load(cf)\n",
    "    "
   ]
  },
  {
   "cell_type": "code",
   "execution_count": 222,
   "metadata": {},
   "outputs": [
    {
     "name": "stdout",
     "output_type": "stream",
     "text": [
      "communes[0].keys()\n",
      "dict_keys(['url', 'text', 'hab_year', 'problem_time', 'problem_unit', 'problem_start', 'name', 'gravity', 'actionsDone', 'actionsUndone', 'canton', 'firstmention', 'problems', 'warnings', 'hand_reviewed'])\n",
      "communesToReview[0].keys()\n",
      "dict_keys(['url', 'text', 'hab_year', 'problem_time', 'problem_unit', 'problem_start', 'name', 'gravity', 'actionsDone', 'actionsUndone', 'canton', 'firstmention', 'notes', 'problems', 'warnings', 'hand_reviewed'])\n"
     ]
    }
   ],
   "source": [
    "\n",
    "reviewedCommunes = data[\"reviewedCommunes\"]\n",
    "communesToReview = data[\"communesToReview\"]\n",
    "\n",
    "# remember that some are reviewed and some not\n",
    "for commune in reviewedCommunes:\n",
    "    commune[\"hand_reviewed\"] = True\n",
    "for commune in communesToReview:\n",
    "    commune[\"hand_reviewed\"] = False\n",
    "    \n",
    "print(\"communes[0].keys()\")\n",
    "print(reviewedCommunes[0].keys())\n",
    "print(\"communesToReview[0].keys()\")\n",
    "print(communesToReview[0].keys())"
   ]
  },
  {
   "cell_type": "code",
   "execution_count": 223,
   "metadata": {},
   "outputs": [
    {
     "name": "stdout",
     "output_type": "stream",
     "text": [
      "2242\n",
      "2162\n"
     ]
    }
   ],
   "source": [
    "columns_communes = [\"name\",\"canton\",\"url\",\"firstmention\",\"hab_year\",\"raw_hab_year\",\"notes\"]\n",
    "communes_name_regex = re.compile(r\"\\W\\(?Gemeinde\\)?\")\n",
    "\n",
    "communes = reviewedCommunes+communesToReview\n",
    "communes = [\n",
    "    {\n",
    "        \"name\": communes_name_regex.sub(\"\",commune[\"name\"]),\n",
    "        \"canton\": commune[\"canton\"],\n",
    "        \"url\": commune[\"url\"],\n",
    "        \"firstmention\": commune[\"firstmention\"] if \"firstmention\" in commune else -1,\n",
    "        \"hab_year\": [\n",
    "            {\n",
    "                \"year\": int(hy[\"year\"]),\n",
    "                \"pop\": int(hy[\"pop\"]),\n",
    "                \"unit\": hy[\"unit\"].strip() if \"unit\" in hy else \"undefined\"\n",
    "            } for hy in commune[\"hab_year\"]\n",
    "        ],\n",
    "        \"notes\": commune[\"notes\"] if \"notes\" in commune else \"\"\n",
    "    }\n",
    "    for commune in communes\n",
    "]\n",
    "for commune in communes:\n",
    "    commune[\"raw_hab_year\"] = copy.deepcopy(commune[\"hab_year\"])\n",
    "\n",
    "# Drop thurgau for now\n",
    "print(len(communes))\n",
    "TGcommunes = [c for c in communes if c[\"canton\"]==\"TG\"]\n",
    "communes = [c for c in communes if c[\"canton\"]!=\"TG\"]\n",
    "print(len(communes))\n",
    "\n",
    "dfcommunes = pd.DataFrame(communes)[columns_communes]\n",
    "\n",
    "#pd.set_option('display.max_rows', None) \n",
    "#dfcommunes"
   ]
  },
  {
   "cell_type": "code",
   "execution_count": 226,
   "metadata": {},
   "outputs": [
    {
     "name": "stdout",
     "output_type": "stream",
     "text": [
      "2242\n",
      "2162\n"
     ]
    }
   ],
   "source": [
    "# class version\n",
    "\n",
    "columns_communes = [\"name\",\"canton\",\"url\",\"firstmention\",\"hab_year\",\"raw_hab_year\",\"notes\"]\n",
    "\n",
    "communes = reviewedCommunes+communesToReview\n",
    "communes = [Commune(json_commune)\n",
    "    for json_commune in communes\n",
    "]\n",
    "\n",
    "# Drop thurgau for now\n",
    "print(len(communes))\n",
    "TGcommunes = [c for c in communes if c.canton==\"TG\"]\n",
    "communes = [c for c in communes if c.canton!=\"TG\"]\n",
    "print(len(communes))\n",
    "\n",
    "#dfcommunes = pd.DataFrame(communes)[columns_communes]\n",
    "\n",
    "#pd.set_option('display.max_rows', None) \n",
    "#dfcommunes"
   ]
  },
  {
   "cell_type": "code",
   "execution_count": null,
   "metadata": {},
   "outputs": [],
   "source": []
  },
  {
   "cell_type": "code",
   "execution_count": null,
   "metadata": {},
   "outputs": [],
   "source": []
  },
  {
   "cell_type": "markdown",
   "metadata": {},
   "source": [
    "# Available data across time"
   ]
  },
  {
   "cell_type": "code",
   "execution_count": 228,
   "metadata": {},
   "outputs": [
    {
     "name": "stdout",
     "output_type": "stream",
     "text": [
      "min(years) =  1177\n",
      "Number of observations per year:\n",
      "(1149.999, 1200.0]       3\n",
      "(1200.0, 1250.0]         4\n",
      "(1250.0, 1300.0]         9\n",
      "(1300.0, 1350.0]        19\n",
      "(1350.0, 1400.0]        28\n",
      "(1400.0, 1450.0]       108\n",
      "(1450.0, 1500.0]       205\n",
      "(1500.0, 1550.0]        82\n",
      "(1550.0, 1600.0]       118\n",
      "(1600.0, 1650.0]       211\n",
      "(1650.0, 1700.0]       269\n",
      "(1700.0, 1750.0]       255\n",
      "(1750.0, 1800.0]      1329\n",
      "(1800.0, 1850.0]      2631\n",
      "(1850.0, 1900.0]         0\n",
      "dtype: int64\n"
     ]
    },
    {
     "data": {
      "text/plain": [
       "Text(0.5, 1.0, 'Number of observations across time')"
      ]
     },
     "execution_count": 228,
     "metadata": {},
     "output_type": "execute_result"
    },
    {
     "data": {
      "image/png": "[encoded data removed]",
      "text/plain": [
       "<Figure size 432x288 with 1 Axes>"
      ]
     },
     "metadata": {
      "needs_background": "light"
     },
     "output_type": "display_data"
    }
   ],
   "source": [
    "years_bins = range(1150,1901,50)\n",
    "\n",
    "years = [hy.year for c in communes for hy in c.hab_year if hy.year<=1850]\n",
    "print(\"min(years) = \", min(years))\n",
    "\n",
    "print(\"Number of observations per year:\")\n",
    "print(pd.Series(years).value_counts(bins=years_bins,sort=False))\n",
    "\n",
    "sns.distplot(years, bins=years_bins, kde=False, rug=False).set_title('Number of observations across time')"
   ]
  },
  {
   "cell_type": "code",
   "execution_count": 229,
   "metadata": {},
   "outputs": [
    {
     "data": {
      "text/plain": [
       "Text(0.5, 1.0, 'Number of communes with first observation before year Y')"
      ]
     },
     "execution_count": 229,
     "metadata": {},
     "output_type": "execute_result"
    },
    {
     "data": {
      "image/png": "[encoded data removed]",
      "text/plain": [
       "<Figure size 432x288 with 1 Axes>"
      ]
     },
     "metadata": {
      "needs_background": "light"
     },
     "output_type": "display_data"
    }
   ],
   "source": [
    "\n",
    "\n",
    "first_years = [min([y for hy in c.hab_year for y in [hy.year] if y<=1850]+[1850]) for c in communes ]\n",
    "\n",
    "sns.distplot(first_years, bins=years_bins, hist_kws=dict(cumulative=True),kde=False,rug=False).set_title(\"Number of communes with first observation before year Y\")"
   ]
  },
  {
   "cell_type": "code",
   "execution_count": null,
   "metadata": {},
   "outputs": [],
   "source": []
  },
  {
   "cell_type": "markdown",
   "metadata": {},
   "source": [
    "# Unit transformation"
   ]
  },
  {
   "cell_type": "code",
   "execution_count": 230,
   "metadata": {},
   "outputs": [
    {
     "name": "stdout",
     "output_type": "stream",
     "text": [
      "Number of each type of units:\n",
      "Einw                                               2814\n",
      "Feuerstätten                                        157\n",
      "Haushalte                                           146\n",
      "Feuerstellen                                         28\n",
      "Häuser                                               25\n",
      "Haushaltungen                                        23\n",
      "Einw Kirchgem.                                       13\n",
      "Steuerpflichtige                                     11\n",
      "Einw. Kirchgem                                        6\n",
      "Erwachsene                                            6\n",
      "Einw Feuerschaukreis                                  6\n",
      "Kanoniker                                             6\n",
      "Hofstätten                                            4\n",
      "Kommunikanten                                         3\n",
      "Herdstellen                                           3\n",
      "Herdstätten                                           3\n",
      "Haushalt                                              3\n",
      "undefined                                             3\n",
      "Hofgenossen                                           2\n",
      "Höfe                                                  2\n",
      "Einw Pedrinate                                        2\n",
      "Juden                                                 1\n",
      "Kirchgenossen                                         1\n",
      "(Pfarrei einschliesslich Molondin und Vuissens)       1\n",
      "Beisassen                                             1\n",
      "Bürger                                                1\n",
      "Hausväter                                             1\n",
      "Pesttote                                              1\n",
      "Haushalte Kirchgem                                    1\n",
      "Feuerstätten (mit Sermuz, heute Gem                   1\n",
      "Erwachsenen                                           1\n",
      "Einwohner                                             1\n",
      "Einw outlier                                          1\n",
      "Fam                                                   1\n",
      "                                                      1\n",
      "dtype: int64\n"
     ]
    }
   ],
   "source": [
    "units = [hy.unit  for c in communes for hy in c.hab_year if hy.year<1850]\n",
    "\n",
    "print(\"Number of each type of units:\")\n",
    "print(pd.Series(units).value_counts())"
   ]
  },
  {
   "cell_type": "code",
   "execution_count": 231,
   "metadata": {},
   "outputs": [
    {
     "data": {
      "text/plain": [
       "array(['Haushalte', 'Einw', 'Feuerstätten', 'Haushaltungen', 'Häuser',\n",
       "       'Kirchgenossen', 'Steuerpflichtige', 'Erwachsenen',\n",
       "       'Einw Feuerschaukreis', 'Erwachsene', 'Kanoniker', 'Höfe',\n",
       "       'Herdstellen', 'Hofstätten', 'Pesttote', 'Fam', 'Kommunikanten',\n",
       "       'Feuerstellen', 'Einw Kirchgem.', 'Juden', 'Einw outlier',\n",
       "       'Feuerstätten (mit Sermuz, heute Gem', 'Bürger',\n",
       "       '(Pfarrei einschliesslich Molondin und Vuissens)', 'Haushalt',\n",
       "       'Einwohner', '', 'Hofgenossen', 'Hausväter', 'Einw Pedrinate',\n",
       "       'Herdstätten', 'undefined', 'Beisassen', 'Einw. Kirchgem',\n",
       "       'Haushalte Kirchgem'], dtype=object)"
      ]
     },
     "execution_count": 231,
     "metadata": {},
     "output_type": "execute_result"
    }
   ],
   "source": [
    "pd.Series(units).unique()"
   ]
  },
  {
   "cell_type": "code",
   "execution_count": 232,
   "metadata": {},
   "outputs": [],
   "source": [
    "unit_einw_1 = ['Beisassen',\n",
    "'Bürger',\n",
    "'Einw',\n",
    "'Einw Feuerschaukreis',\n",
    "'Einw Kirchgem.',\n",
    "'Einw. Kirchgem', 'Einwohner',\n",
    "'Kirchgenossen', 'Kommunikanten'\n",
    "]\n",
    "unit_haushalte_5 = [\n",
    "'Erwachsene', 'Erwachsenen', 'Fam', 'Feuerstellen', 'Feuerstätten',\n",
    "'Feuerstätten (mit Sermuz, heute Gem', 'Haushalt', 'Haushalte',\n",
    "'Haushalte Kirchgem', 'Haushaltungen', 'Hausväter', 'Herdstellen',\n",
    "'Herdstätten', 'Hofgenossen', 'Hofstätten', 'Häuser', 'Höfe',\n",
    "'Steuerpflichtige',\n",
    "]\n",
    "accepted_units = unit_einw_1+unit_haushalte_5"
   ]
  },
  {
   "cell_type": "markdown",
   "metadata": {},
   "source": [
    "### Finding the conversion factor"
   ]
  },
  {
   "cell_type": "code",
   "execution_count": 235,
   "metadata": {},
   "outputs": [
    {
     "ename": "TypeError",
     "evalue": "bad operand type for unary -: 'tuple'",
     "output_type": "error",
     "traceback": [
      "\u001b[0;31m---------------------------------------------------------------------------\u001b[0m",
      "\u001b[0;31mTypeError\u001b[0m                                 Traceback (most recent call last)",
      "\u001b[0;32m<ipython-input-235-43a7208b926c>\u001b[0m in \u001b[0;36m<module>\u001b[0;34m\u001b[0m\n\u001b[1;32m     19\u001b[0m \u001b[0;34m\u001b[0m\u001b[0m\n\u001b[1;32m     20\u001b[0m \u001b[0;31m# find duplicates\u001b[0m\u001b[0;34m\u001b[0m\u001b[0;34m\u001b[0m\u001b[0;34m\u001b[0m\u001b[0m\n\u001b[0;32m---> 21\u001b[0;31m \u001b[0mduplicates\u001b[0m \u001b[0;34m=\u001b[0m \u001b[0;34m[\u001b[0m\u001b[0;34m(\u001b[0m\u001b[0mc\u001b[0m\u001b[0;34m.\u001b[0m\u001b[0mname\u001b[0m\u001b[0;34m,\u001b[0m\u001b[0mc\u001b[0m\u001b[0;34m.\u001b[0m\u001b[0mcanton\u001b[0m\u001b[0;34m,\u001b[0m\u001b[0my\u001b[0m\u001b[0;34m,\u001b[0m\u001b[0mhys\u001b[0m\u001b[0;34m)\u001b[0m \u001b[0;32mfor\u001b[0m \u001b[0mc\u001b[0m \u001b[0;32min\u001b[0m \u001b[0mcommunes\u001b[0m \u001b[0;32mfor\u001b[0m \u001b[0my\u001b[0m\u001b[0;34m,\u001b[0m\u001b[0mhys\u001b[0m \u001b[0;32min\u001b[0m \u001b[0;34m(\u001b[0m\u001b[0mdetect_duplicated_years\u001b[0m\u001b[0;34m(\u001b[0m\u001b[0mc\u001b[0m\u001b[0;34m)\u001b[0m\u001b[0;34m)\u001b[0m\u001b[0;34m.\u001b[0m\u001b[0mitems\u001b[0m\u001b[0;34m(\u001b[0m\u001b[0;34m)\u001b[0m \u001b[0;32mif\u001b[0m \u001b[0mone1one5\u001b[0m\u001b[0;34m(\u001b[0m\u001b[0mhys\u001b[0m\u001b[0;34m[\u001b[0m\u001b[0;36m0\u001b[0m\u001b[0;34m]\u001b[0m\u001b[0;34m,\u001b[0m\u001b[0mhys\u001b[0m\u001b[0;34m[\u001b[0m\u001b[0;36m1\u001b[0m\u001b[0;34m]\u001b[0m\u001b[0;34m)\u001b[0m\u001b[0;34m]\u001b[0m\u001b[0;34m\u001b[0m\u001b[0;34m\u001b[0m\u001b[0m\n\u001b[0m\u001b[1;32m     22\u001b[0m \u001b[0;34m\u001b[0m\u001b[0m\n\u001b[1;32m     23\u001b[0m dfduplicates = pd.DataFrame([{\n",
      "\u001b[0;32m<ipython-input-235-43a7208b926c>\u001b[0m in \u001b[0;36m<listcomp>\u001b[0;34m(.0)\u001b[0m\n\u001b[1;32m     19\u001b[0m \u001b[0;34m\u001b[0m\u001b[0m\n\u001b[1;32m     20\u001b[0m \u001b[0;31m# find duplicates\u001b[0m\u001b[0;34m\u001b[0m\u001b[0;34m\u001b[0m\u001b[0;34m\u001b[0m\u001b[0m\n\u001b[0;32m---> 21\u001b[0;31m \u001b[0mduplicates\u001b[0m \u001b[0;34m=\u001b[0m \u001b[0;34m[\u001b[0m\u001b[0;34m(\u001b[0m\u001b[0mc\u001b[0m\u001b[0;34m.\u001b[0m\u001b[0mname\u001b[0m\u001b[0;34m,\u001b[0m\u001b[0mc\u001b[0m\u001b[0;34m.\u001b[0m\u001b[0mcanton\u001b[0m\u001b[0;34m,\u001b[0m\u001b[0my\u001b[0m\u001b[0;34m,\u001b[0m\u001b[0mhys\u001b[0m\u001b[0;34m)\u001b[0m \u001b[0;32mfor\u001b[0m \u001b[0mc\u001b[0m \u001b[0;32min\u001b[0m \u001b[0mcommunes\u001b[0m \u001b[0;32mfor\u001b[0m \u001b[0my\u001b[0m\u001b[0;34m,\u001b[0m\u001b[0mhys\u001b[0m \u001b[0;32min\u001b[0m \u001b[0;34m(\u001b[0m\u001b[0mdetect_duplicated_years\u001b[0m\u001b[0;34m(\u001b[0m\u001b[0mc\u001b[0m\u001b[0;34m)\u001b[0m\u001b[0;34m)\u001b[0m\u001b[0;34m.\u001b[0m\u001b[0mitems\u001b[0m\u001b[0;34m(\u001b[0m\u001b[0;34m)\u001b[0m \u001b[0;32mif\u001b[0m \u001b[0mone1one5\u001b[0m\u001b[0;34m(\u001b[0m\u001b[0mhys\u001b[0m\u001b[0;34m[\u001b[0m\u001b[0;36m0\u001b[0m\u001b[0;34m]\u001b[0m\u001b[0;34m,\u001b[0m\u001b[0mhys\u001b[0m\u001b[0;34m[\u001b[0m\u001b[0;36m1\u001b[0m\u001b[0;34m]\u001b[0m\u001b[0;34m)\u001b[0m\u001b[0;34m]\u001b[0m\u001b[0;34m\u001b[0m\u001b[0;34m\u001b[0m\u001b[0m\n\u001b[0m\u001b[1;32m     22\u001b[0m \u001b[0;34m\u001b[0m\u001b[0m\n\u001b[1;32m     23\u001b[0m dfduplicates = pd.DataFrame([{\n",
      "\u001b[0;32m<ipython-input-235-43a7208b926c>\u001b[0m in \u001b[0;36mdetect_duplicated_years\u001b[0;34m(commune)\u001b[0m\n\u001b[1;32m     15\u001b[0m         \u001b[0;32melse\u001b[0m\u001b[0;34m:\u001b[0m\u001b[0;34m\u001b[0m\u001b[0;34m\u001b[0m\u001b[0m\n\u001b[1;32m     16\u001b[0m             \u001b[0myear_dict\u001b[0m\u001b[0;34m[\u001b[0m\u001b[0mhy\u001b[0m\u001b[0;34m.\u001b[0m\u001b[0myear\u001b[0m\u001b[0;34m]\u001b[0m \u001b[0;34m=\u001b[0m \u001b[0;34m[\u001b[0m\u001b[0mhy\u001b[0m\u001b[0;34m]\u001b[0m\u001b[0;34m\u001b[0m\u001b[0;34m\u001b[0m\u001b[0m\n\u001b[0;32m---> 17\u001b[0;31m     \u001b[0mduplicates\u001b[0m \u001b[0;34m=\u001b[0m \u001b[0;34m{\u001b[0m\u001b[0my\u001b[0m\u001b[0;34m:\u001b[0m\u001b[0msorted\u001b[0m\u001b[0;34m(\u001b[0m\u001b[0mhys\u001b[0m\u001b[0;34m,\u001b[0m\u001b[0mkey\u001b[0m\u001b[0;34m=\u001b[0m\u001b[0;32mlambda\u001b[0m \u001b[0mhy\u001b[0m\u001b[0;34m:\u001b[0m \u001b[0;34m-\u001b[0m\u001b[0mhy\u001b[0m\u001b[0;34m.\u001b[0m\u001b[0mpop\u001b[0m\u001b[0;34m)\u001b[0m \u001b[0;32mfor\u001b[0m \u001b[0my\u001b[0m\u001b[0;34m,\u001b[0m\u001b[0mhys\u001b[0m \u001b[0;32min\u001b[0m \u001b[0myear_dict\u001b[0m\u001b[0;34m.\u001b[0m\u001b[0mitems\u001b[0m\u001b[0;34m(\u001b[0m\u001b[0;34m)\u001b[0m \u001b[0;32mif\u001b[0m \u001b[0mlen\u001b[0m\u001b[0;34m(\u001b[0m\u001b[0mhys\u001b[0m\u001b[0;34m)\u001b[0m\u001b[0;34m>\u001b[0m\u001b[0;36m1\u001b[0m\u001b[0;34m}\u001b[0m\u001b[0;34m\u001b[0m\u001b[0;34m\u001b[0m\u001b[0m\n\u001b[0m\u001b[1;32m     18\u001b[0m     \u001b[0;32mreturn\u001b[0m \u001b[0mduplicates\u001b[0m\u001b[0;34m\u001b[0m\u001b[0;34m\u001b[0m\u001b[0m\n\u001b[1;32m     19\u001b[0m \u001b[0;34m\u001b[0m\u001b[0m\n",
      "\u001b[0;32m<ipython-input-235-43a7208b926c>\u001b[0m in \u001b[0;36m<dictcomp>\u001b[0;34m(.0)\u001b[0m\n\u001b[1;32m     15\u001b[0m         \u001b[0;32melse\u001b[0m\u001b[0;34m:\u001b[0m\u001b[0;34m\u001b[0m\u001b[0;34m\u001b[0m\u001b[0m\n\u001b[1;32m     16\u001b[0m             \u001b[0myear_dict\u001b[0m\u001b[0;34m[\u001b[0m\u001b[0mhy\u001b[0m\u001b[0;34m.\u001b[0m\u001b[0myear\u001b[0m\u001b[0;34m]\u001b[0m \u001b[0;34m=\u001b[0m \u001b[0;34m[\u001b[0m\u001b[0mhy\u001b[0m\u001b[0;34m]\u001b[0m\u001b[0;34m\u001b[0m\u001b[0;34m\u001b[0m\u001b[0m\n\u001b[0;32m---> 17\u001b[0;31m     \u001b[0mduplicates\u001b[0m \u001b[0;34m=\u001b[0m \u001b[0;34m{\u001b[0m\u001b[0my\u001b[0m\u001b[0;34m:\u001b[0m\u001b[0msorted\u001b[0m\u001b[0;34m(\u001b[0m\u001b[0mhys\u001b[0m\u001b[0;34m,\u001b[0m\u001b[0mkey\u001b[0m\u001b[0;34m=\u001b[0m\u001b[0;32mlambda\u001b[0m \u001b[0mhy\u001b[0m\u001b[0;34m:\u001b[0m \u001b[0;34m-\u001b[0m\u001b[0mhy\u001b[0m\u001b[0;34m.\u001b[0m\u001b[0mpop\u001b[0m\u001b[0;34m)\u001b[0m \u001b[0;32mfor\u001b[0m \u001b[0my\u001b[0m\u001b[0;34m,\u001b[0m\u001b[0mhys\u001b[0m \u001b[0;32min\u001b[0m \u001b[0myear_dict\u001b[0m\u001b[0;34m.\u001b[0m\u001b[0mitems\u001b[0m\u001b[0;34m(\u001b[0m\u001b[0;34m)\u001b[0m \u001b[0;32mif\u001b[0m \u001b[0mlen\u001b[0m\u001b[0;34m(\u001b[0m\u001b[0mhys\u001b[0m\u001b[0;34m)\u001b[0m\u001b[0;34m>\u001b[0m\u001b[0;36m1\u001b[0m\u001b[0;34m}\u001b[0m\u001b[0;34m\u001b[0m\u001b[0;34m\u001b[0m\u001b[0m\n\u001b[0m\u001b[1;32m     18\u001b[0m     \u001b[0;32mreturn\u001b[0m \u001b[0mduplicates\u001b[0m\u001b[0;34m\u001b[0m\u001b[0;34m\u001b[0m\u001b[0m\n\u001b[1;32m     19\u001b[0m \u001b[0;34m\u001b[0m\u001b[0m\n",
      "\u001b[0;32m<ipython-input-235-43a7208b926c>\u001b[0m in \u001b[0;36m<lambda>\u001b[0;34m(hy)\u001b[0m\n\u001b[1;32m     15\u001b[0m         \u001b[0;32melse\u001b[0m\u001b[0;34m:\u001b[0m\u001b[0;34m\u001b[0m\u001b[0;34m\u001b[0m\u001b[0m\n\u001b[1;32m     16\u001b[0m             \u001b[0myear_dict\u001b[0m\u001b[0;34m[\u001b[0m\u001b[0mhy\u001b[0m\u001b[0;34m.\u001b[0m\u001b[0myear\u001b[0m\u001b[0;34m]\u001b[0m \u001b[0;34m=\u001b[0m \u001b[0;34m[\u001b[0m\u001b[0mhy\u001b[0m\u001b[0;34m]\u001b[0m\u001b[0;34m\u001b[0m\u001b[0;34m\u001b[0m\u001b[0m\n\u001b[0;32m---> 17\u001b[0;31m     \u001b[0mduplicates\u001b[0m \u001b[0;34m=\u001b[0m \u001b[0;34m{\u001b[0m\u001b[0my\u001b[0m\u001b[0;34m:\u001b[0m\u001b[0msorted\u001b[0m\u001b[0;34m(\u001b[0m\u001b[0mhys\u001b[0m\u001b[0;34m,\u001b[0m\u001b[0mkey\u001b[0m\u001b[0;34m=\u001b[0m\u001b[0;32mlambda\u001b[0m \u001b[0mhy\u001b[0m\u001b[0;34m:\u001b[0m \u001b[0;34m-\u001b[0m\u001b[0mhy\u001b[0m\u001b[0;34m.\u001b[0m\u001b[0mpop\u001b[0m\u001b[0;34m)\u001b[0m \u001b[0;32mfor\u001b[0m \u001b[0my\u001b[0m\u001b[0;34m,\u001b[0m\u001b[0mhys\u001b[0m \u001b[0;32min\u001b[0m \u001b[0myear_dict\u001b[0m\u001b[0;34m.\u001b[0m\u001b[0mitems\u001b[0m\u001b[0;34m(\u001b[0m\u001b[0;34m)\u001b[0m \u001b[0;32mif\u001b[0m \u001b[0mlen\u001b[0m\u001b[0;34m(\u001b[0m\u001b[0mhys\u001b[0m\u001b[0;34m)\u001b[0m\u001b[0;34m>\u001b[0m\u001b[0;36m1\u001b[0m\u001b[0;34m}\u001b[0m\u001b[0;34m\u001b[0m\u001b[0;34m\u001b[0m\u001b[0m\n\u001b[0m\u001b[1;32m     18\u001b[0m     \u001b[0;32mreturn\u001b[0m \u001b[0mduplicates\u001b[0m\u001b[0;34m\u001b[0m\u001b[0;34m\u001b[0m\u001b[0m\n\u001b[1;32m     19\u001b[0m \u001b[0;34m\u001b[0m\u001b[0m\n",
      "\u001b[0;31mTypeError\u001b[0m: bad operand type for unary -: 'tuple'"
     ]
    }
   ],
   "source": [
    "\n",
    "def one1one5(a,b):\n",
    "    return (a.unit in unit_einw_1 and b.unit in unit_haushalte_5) or (a.unit in unit_haushalte_5 and b.unit in unit_einw_1)\n",
    "\n",
    "def detect_duplicated_years(commune):\n",
    "    # create one dict with one entry per year\n",
    "    # for each year:\n",
    "    # - if no year in dict, add it\n",
    "    # - if a year already there, add it to the list\n",
    "    # filter the dict on the years where len()>1\n",
    "    year_dict = {}\n",
    "    for hy in commune.hab_year:\n",
    "        if hy.year in year_dict:\n",
    "            year_dict[hy.year].append(hy)\n",
    "        else:\n",
    "            year_dict[hy.year] = [hy]\n",
    "    duplicates = {y:sorted(hys,key=lambda hy: -hy.pop) for y,hys in year_dict.items() if len(hys)>1}\n",
    "    return duplicates\n",
    "\n",
    "# find duplicates\n",
    "duplicates = [(c.name,c.canton,y,hys) for c in communes for y,hys in (detect_duplicated_years(c)).items() if one1one5(hys[0],hys[1])]\n",
    "\n",
    "dfduplicates = pd.DataFrame([{\n",
    "    \"commune\": cname,\n",
    "    \"canton\": canton,\n",
    "    \"year\": y,\n",
    "    \"pop_einw\": hys[0][\"pop\"],\n",
    "    \"pop_haus\": hys[1][\"pop\"],\n",
    "    \"ratio\": hys[0][\"pop\"] / hys[1][\"pop\"],\n",
    "    \"unit_haus\": hys[1][\"unit\"]} for cname, canton, y, hys in duplicates])\n",
    "dfduplicates = dfduplicates.sort_values([\"year\",\"unit_haus\",\"commune\"])\n",
    "print(\"Number of double Haushaltungen-Einw data\")\n",
    "print(len(duplicates))\n",
    "dfduplicates"
   ]
  },
  {
   "cell_type": "code",
   "execution_count": null,
   "metadata": {},
   "outputs": [],
   "source": []
  },
  {
   "cell_type": "code",
   "execution_count": 210,
   "metadata": {},
   "outputs": [],
   "source": [
    "def boxplot_condition(df, groupings, ax=plt):\n",
    "    groupings = [(unit, f, f(dfduplicates)) for unit, f in groupings]\n",
    "    ax.boxplot(\n",
    "        [df.ratio.loc[condition] for unit, f, condition  in groupings],\n",
    "        labels = [unit+f\" ({np.sum(condition)}, mean: {np.round(np.mean(df.ratio.loc[condition]),2)})\" for unit, f, condition in groupings]\n",
    "        )\n",
    "    #ax.xticks(rotation=10)\n",
    "    ax.tick_params(labelrotation=10)\n",
    "\n",
    "    "
   ]
  },
  {
   "cell_type": "code",
   "execution_count": 211,
   "metadata": {},
   "outputs": [
    {
     "ename": "NameError",
     "evalue": "name 'df' is not defined",
     "output_type": "error",
     "traceback": [
      "\u001b[0;31m---------------------------------------------------------------------------\u001b[0m",
      "\u001b[0;31mNameError\u001b[0m                                 Traceback (most recent call last)",
      "\u001b[0;32m<ipython-input-211-243594c87f24>\u001b[0m in \u001b[0;36m<module>\u001b[0;34m\u001b[0m\n\u001b[1;32m     22\u001b[0m ]\n\u001b[1;32m     23\u001b[0m \u001b[0;34m\u001b[0m\u001b[0m\n\u001b[0;32m---> 24\u001b[0;31m \u001b[0mboxplot_condition\u001b[0m\u001b[0;34m(\u001b[0m\u001b[0mdf\u001b[0m\u001b[0;34m,\u001b[0m \u001b[0mhaus_units\u001b[0m\u001b[0;34m,\u001b[0m \u001b[0max1\u001b[0m\u001b[0;34m)\u001b[0m\u001b[0;34m\u001b[0m\u001b[0;34m\u001b[0m\u001b[0m\n\u001b[0m\u001b[1;32m     25\u001b[0m \u001b[0max1\u001b[0m\u001b[0;34m.\u001b[0m\u001b[0mset_title\u001b[0m\u001b[0;34m(\u001b[0m\u001b[0;34m\"conversion factor boxplot depending on type of unit\"\u001b[0m\u001b[0;34m)\u001b[0m\u001b[0;34m\u001b[0m\u001b[0;34m\u001b[0m\u001b[0m\n\u001b[1;32m     26\u001b[0m \u001b[0mboxplot_condition\u001b[0m\u001b[0;34m(\u001b[0m\u001b[0mdf\u001b[0m\u001b[0;34m,\u001b[0m \u001b[0mhaus_years\u001b[0m\u001b[0;34m,\u001b[0m \u001b[0max2\u001b[0m\u001b[0;34m)\u001b[0m\u001b[0;34m\u001b[0m\u001b[0;34m\u001b[0m\u001b[0m\n",
      "\u001b[0;31mNameError\u001b[0m: name 'df' is not defined"
     ]
    },
    {
     "data": {
      "image/png": "[encoded data removed]",
      "text/plain": [
       "<Figure size 1296x345.6 with 3 Axes>"
      ]
     },
     "metadata": {
      "needs_background": "light"
     },
     "output_type": "display_data"
    }
   ],
   "source": [
    "f, (ax1, ax2, ax3) = plt.subplots(1, 3, figsize=(18,4.8))\n",
    "\n",
    "haus_units = [\n",
    "    (\"all\", lambda df: df.pop_haus>0),\n",
    "    (\"Haushalte\", lambda df: (df.unit_haus ==\"Haushaltungen\") | (df.unit_haus==\"Haushalte\")),\n",
    "    (\"Häuser\", lambda df: df.unit_haus==\"Häuser\"),\n",
    "    (\"Feuerstätten\", lambda df: df.unit_haus==\"Feuerstätten\"),\n",
    "    (\"Steuerpflichtige\", lambda df: df.unit_haus==\"Steuerpflichtige\")\n",
    "]\n",
    "\n",
    "haus_years= [\n",
    "    (\"all\", lambda df: df.year>=0),\n",
    "    (\">1750\", lambda df: df.year>1750),\n",
    "    (\"1650-1749\", lambda df: (df.year>1650) & (df.year<=1750)),\n",
    "    (\"<1650\", lambda df:  df.year<=1650),\n",
    "]\n",
    "\n",
    "haus_cantons = [\n",
    "    (\"all\", lambda df: df.pop_haus>0),\n",
    "    (\"VD\", lambda df: df.canton ==\"VD\"),\n",
    "    (\"others\", lambda df: df.canton !=\"VD\"),\n",
    "]\n",
    "\n",
    "boxplot_condition(df, haus_units, ax1)\n",
    "ax1.set_title(\"conversion factor boxplot depending on type of unit\")\n",
    "boxplot_condition(df, haus_years, ax2)\n",
    "ax2.set_title(\"conversion factor boxplot depending on year of observation\")\n",
    "boxplot_condition(df, haus_cantons, ax3)\n",
    "ax3.set_title(\"conversion factor boxplot depending on canton\")\n",
    "None"
   ]
  },
  {
   "cell_type": "code",
   "execution_count": null,
   "metadata": {},
   "outputs": [],
   "source": [
    "conversion_factor = np.mean(dfduplicates.ratio)\n",
    "print(f\"conversion factor: {np.round(conversion_factor,3)}\")"
   ]
  },
  {
   "cell_type": "code",
   "execution_count": null,
   "metadata": {},
   "outputs": [],
   "source": []
  },
  {
   "cell_type": "markdown",
   "metadata": {},
   "source": [
    "### Doing the conversion\n",
    "\n",
    "Remove non-Einw data in duplicated years, as well as non-accepted units"
   ]
  },
  {
   "cell_type": "code",
   "execution_count": null,
   "metadata": {},
   "outputs": [],
   "source": [
    "for c in communes:\n",
    "    duplicates = detect_duplicated_years(c)\n",
    "    c[\"hab_year\"] = [hy for hy in c[\"hab_year\"] if hy[\"year\"] not in duplicates or hy[\"unit\"]==\"Einw\"]\n",
    "    c[\"hab_year\"] = [hy for hy in c[\"hab_year\"] if hy[\"unit\"] in accepted_units]"
   ]
  },
  {
   "cell_type": "code",
   "execution_count": null,
   "metadata": {},
   "outputs": [],
   "source": [
    "for c in communes:\n",
    "    to_delete = []\n",
    "    #print(c[\"hab_year\"])\n",
    "    for i,hy in enumerate(c[\"hab_year\"]):\n",
    "        if hy[\"unit\"] in unit_haushalte_5:\n",
    "            hy[\"original_unit\"] = hy[\"unit\"]\n",
    "            hy[\"einw_conversion_factor\"] = conversion_factor\n",
    "            hy[\"pop\"] = int(np.round(conversion_factor*hy[\"pop\"]))\n",
    "        hy[\"unit\"] = \"Einw\"    \n",
    "    "
   ]
  },
  {
   "cell_type": "code",
   "execution_count": null,
   "metadata": {},
   "outputs": [],
   "source": [
    "c = communes[1]\n",
    "duplicates = detect_duplicated_years(c)\n",
    "duplicates\n",
    "c"
   ]
  },
  {
   "cell_type": "code",
   "execution_count": null,
   "metadata": {},
   "outputs": [],
   "source": [
    "[hy for hy in c[\"hab_year\"] if hy[\"year\"] not in duplicates or hy[\"unit\"]==\"Einw\"]"
   ]
  },
  {
   "cell_type": "code",
   "execution_count": null,
   "metadata": {},
   "outputs": [],
   "source": []
  },
  {
   "cell_type": "code",
   "execution_count": null,
   "metadata": {},
   "outputs": [],
   "source": []
  },
  {
   "cell_type": "code",
   "execution_count": null,
   "metadata": {},
   "outputs": [],
   "source": [
    "units = [hy[\"unit\"]  for c in communes for hy in c[\"hab_year\"] if hy[\"year\"]<1850]\n",
    "\n",
    "print(\"Number of each type of units:\")\n",
    "print(pd.Series(units).value_counts())"
   ]
  },
  {
   "cell_type": "code",
   "execution_count": null,
   "metadata": {},
   "outputs": [],
   "source": [
    "dfcommunes = pd.DataFrame(communes)[columns_communes]\n",
    "\n",
    "#pd.set_option('display.max_rows', None) \n",
    "dfcommunes"
   ]
  },
  {
   "cell_type": "code",
   "execution_count": null,
   "metadata": {},
   "outputs": [],
   "source": [
    "dfcommunes.to_csv(\"communes_units_converted.csv\", sep=\";\")"
   ]
  },
  {
   "cell_type": "code",
   "execution_count": null,
   "metadata": {},
   "outputs": [],
   "source": [
    "with open('communes_units_converted.json', 'w') as json_file:\n",
    "  json.dump(communes, json_file)"
   ]
  },
  {
   "cell_type": "code",
   "execution_count": null,
   "metadata": {},
   "outputs": [],
   "source": [
    "communes[0]"
   ]
  },
  {
   "cell_type": "code",
   "execution_count": null,
   "metadata": {},
   "outputs": [],
   "source": []
  },
  {
   "cell_type": "code",
   "execution_count": null,
   "metadata": {},
   "outputs": [],
   "source": []
  },
  {
   "cell_type": "markdown",
   "metadata": {},
   "source": [
    "# Doing the interpolation\n",
    "\n",
    "Create an interpolator per commune:"
   ]
  },
  {
   "cell_type": "code",
   "execution_count": null,
   "metadata": {},
   "outputs": [],
   "source": [
    "def interpolator(data_points):\n",
    "    \"\"\"Returns a linear interpolator from the given dataPoints\n",
    "    @param {*} dataPoints an array of length 2 arrays, each sub-array is a coordinate with sub-array[0]=x, sub-array[1]=y\n",
    "    @returns interpolate(x) a function taking a value x and returning the linear interpolation of y at x, or null if x is outside the x range of dataPoints\n",
    "    \"\"\"\n",
    "    data_points = sorted(data_points, key=lambda hy:hy[0])\n",
    "    def interpolate(x):\n",
    "        if data_points[0][0]==x:\n",
    "            return data_points[0][1]\n",
    "        for i in range(1,len(data_points)):\n",
    "            if data_points[i][0]>=x and data_points[i-1][0]<=x:\n",
    "                a = data_points[i-1]\n",
    "                b = data_points[i]\n",
    "                return a[1]+ (b[1]-a[1])/(b[0]-a[0]) * (x-a[0])\n",
    "        return None\n",
    "    return interpolate\n",
    "    "
   ]
  },
  {
   "cell_type": "code",
   "execution_count": null,
   "metadata": {},
   "outputs": [],
   "source": [
    "def exponential_interpolator(data_points):\n",
    "    linear_interpolator = interpolator([(dp[0],math.log(dp[1])) for dp in data_points])\n",
    "    def exp_interpolate(x):\n",
    "        log_result = linear_interpolator(x)\n",
    "        if log_result:\n",
    "            return math.exp(log_result)\n",
    "        else: return None\n",
    "    return exp_interpolate"
   ]
  },
  {
   "cell_type": "code",
   "execution_count": null,
   "metadata": {},
   "outputs": [],
   "source": [
    "a = [(0.01,0.1),(1,1),(2,3),(3,6)]\n",
    "print(f\"a = {a}\")\n",
    "x=2.5\n",
    "interp = interpolator(a)\n",
    "print(f\"interp({x}) = {interp(x)}\")\n",
    "expterp = exponential_interpolator(a)\n",
    "print(f\"expterp({x}) = {expterp(x)}\")"
   ]
  },
  {
   "cell_type": "markdown",
   "metadata": {},
   "source": [
    "add exp. interpolator to each commune:"
   ]
  },
  {
   "cell_type": "code",
   "execution_count": 212,
   "metadata": {},
   "outputs": [],
   "source": [
    "for c in communes:\n",
    "    interp_space = [(hy[\"year\"],hy[\"pop\"]) for hy in c[\"hab_year\"]]\n",
    "    interp = exponential_interpolator(interp_space)\n",
    "    c[\"interpolator\"] = interp"
   ]
  },
  {
   "cell_type": "markdown",
   "metadata": {},
   "source": [
    "## How to extrapolate for communes without data?\n",
    "\n",
    "### options:\n",
    "- compute year-by-year growth rates for communes with data\n",
    "   -> use the average per-year growth rate to find a growth-rates time series back in time\n",
    "   -> use this growth-rate time series to go back in time\n",
    "- use timespans of size X: compute average growth rate in each timespan\n",
    "    -> go back in time with those growth rates\n",
    "    \n",
    "### proposition:\n",
    "- each hy has a \"type\" entry with possible values: \"original\", \"interpolated\", \"extrapolated\"\n",
    "- define function compute_growth_rate(c,y1,y2):\n",
    "    return None if no data surrounding y1, y2\n",
    "    return growth rate if it exists\n",
    "- iterate over communes and timespans\n",
    "    compute_growth_rate(...)\n",
    "    -> growth rate of timespan = avg of computed growth rate\n",
    "    \n",
    "## TODO:\n",
    "- compute_growth((x1,y1),(x2,y2))\n",
    "- compute_growth(c,y1,y2)"
   ]
  },
  {
   "cell_type": "code",
   "execution_count": null,
   "metadata": {},
   "outputs": [],
   "source": []
  },
  {
   "cell_type": "code",
   "execution_count": null,
   "metadata": {},
   "outputs": [],
   "source": []
  },
  {
   "cell_type": "code",
   "execution_count": null,
   "metadata": {},
   "outputs": [],
   "source": []
  }
 ],
 "metadata": {
  "kernelspec": {
   "display_name": "Python 3",
   "language": "python",
   "name": "python3"
  },
  "language_info": {
   "codemirror_mode": {
    "name": "ipython",
    "version": 3
   },
   "file_extension": ".py",
   "mimetype": "text/x-python",
   "name": "python",
   "nbconvert_exporter": "python",
   "pygments_lexer": "ipython3",
   "version": "3.7.3"
  }
 },
 "nbformat": 4,
 "nbformat_minor": 2
}
