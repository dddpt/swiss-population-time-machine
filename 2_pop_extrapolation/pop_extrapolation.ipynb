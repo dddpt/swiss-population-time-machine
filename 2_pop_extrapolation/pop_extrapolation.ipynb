{
 "cells": [
  {
   "cell_type": "code",
   "execution_count": null,
   "metadata": {},
   "outputs": [],
   "source": [
    "import math\n",
    "import json\n",
    "import re\n",
    "import copy\n",
    "\n",
    "import numpy as np\n",
    "import pandas as pd\n",
    "import sklearn as sk\n",
    "import matplotlib.pyplot as plt\n",
    "import seaborn as sns\n",
    "\n",
    "#sns.set(style=\"darkgrid\")\n",
    "sns.set(style=\"whitegrid\", rc={'figure.figsize':(12,6)}, font_scale=1.3)\n",
    "\n",
    "# Load an example dataset with long-form data\n",
    "#fmri = sns.load_dataset(\"fmri\")\n",
    "\n",
    "# Plot the responses for different events and regions\n",
    "#plt = sns.lineplot(x=\"timepoint\", y=\"signal\",\n",
    "#             hue=\"region\", style=\"event\",\n",
    "#             data=fmri)\n",
    "\n",
    "\n",
    "#plt.show()"
   ]
  },
  {
   "cell_type": "code",
   "execution_count": null,
   "metadata": {},
   "outputs": [],
   "source": [
    "\n",
    "#with open('../1_pop_cleaning/communes_VD_clean.json', 'r') as cf:\n",
    "#    communes = json.load(cf)\n",
    "#    for c in communes:\n",
    "#        for hy in c[\"hab_year\"]:\n",
    "#            hy[\"pop\"] = int(hy[\"pop\"])\n",
    "#            hy[\"year\"] = int(hy[\"year\"])\n",
    "#cdata = pd.DataFrame(communes)\n",
    "#cdata"
   ]
  },
  {
   "cell_type": "code",
   "execution_count": null,
   "metadata": {},
   "outputs": [],
   "source": [
    "def interpolator(data_points):\n",
    "    \"\"\"Returns a linear interpolator from the given dataPoints\n",
    "    @param {*} dataPoints an array of length 2 arrays, each sub-array is a coordinate with sub-array[0]=x, sub-array[1]=y\n",
    "    @returns interpolate(x) a function taking a value x and returning the linear interpolation of y at x, or null if x is outside the x range of dataPoints\n",
    "    \"\"\"\n",
    "    data_points = sorted(data_points, key=lambda hy:hy[0])\n",
    "    lendp = len(data_points)\n",
    "    if lendp<=1:\n",
    "            return lambda x: None\n",
    "    else:\n",
    "        def interpolate(x):\n",
    "            \n",
    "            for dp in data_points:\n",
    "                if dp[0] == x: return dp[1]\n",
    "            #if data_points[0][0]==x:\n",
    "            #    return data_points[0][1]\n",
    "            #if data_points[lendp-1][0]==x:\n",
    "            #    return data_points[lendp][1]\n",
    "            for i in range(0,lendp-1):\n",
    "                if data_points[i+1][0]>x and data_points[i][0]<=x:\n",
    "                    a = data_points[i]\n",
    "                    b = data_points[i+1]\n",
    "                    return a[1]+ (b[1]-a[1])/(b[0]-a[0]) * (x-a[0])\n",
    "            return None\n",
    "        return interpolate\n",
    "    "
   ]
  },
  {
   "cell_type": "code",
   "execution_count": null,
   "metadata": {},
   "outputs": [],
   "source": [
    "def exponential_interpolator(data_points):\n",
    "    linear_interpolator = interpolator([(dp[0],math.log(dp[1])) for dp in data_points])\n",
    "    def exp_interpolate(x):\n",
    "        log_result = linear_interpolator(x)\n",
    "        if log_result:\n",
    "            return math.exp(log_result)\n",
    "    return exp_interpolate"
   ]
  },
  {
   "cell_type": "code",
   "execution_count": null,
   "metadata": {},
   "outputs": [],
   "source": []
  },
  {
   "cell_type": "code",
   "execution_count": null,
   "metadata": {},
   "outputs": [],
   "source": [
    "a = [(0.01,0.1),(1,1),(2,3),(3,6)]\n",
    "print(f\"a = {a}\")\n",
    "x=2.5\n",
    "interp = interpolator(a)\n",
    "print(f\"interp({x}) = {interp(x)}\")\n",
    "expterp = exponential_interpolator(a)\n",
    "print(f\"expterp({x}) = {expterp(x)}\")"
   ]
  },
  {
   "cell_type": "code",
   "execution_count": null,
   "metadata": {},
   "outputs": [],
   "source": [
    "class HabYear:\n",
    "    UNIT_EINW_1 = ['Beisassen',\n",
    "    'Bürger',\n",
    "    'Einw',\n",
    "    'Einw Feuerschaukreis',\n",
    "    'Einw Kirchgem.',\n",
    "    'Einw. Kirchgem', 'Einwohner',\n",
    "    'Kirchgenossen', 'Kommunikanten'\n",
    "    ]\n",
    "    UNIT_HAUSHALTE_5 = [\n",
    "    'Erwachsene', 'Erwachsenen', 'Fam', 'Feuerstellen', 'Feuerstätten',\n",
    "    'Feuerstätten (mit Sermuz, heute Gem', 'Haushalt', 'Haushalte',\n",
    "    'Haushalte Kirchgem', 'Haushaltungen', 'Hausväter', 'Herdstellen',\n",
    "    'Herdstätten', 'Hofgenossen', 'Hofstätten', 'Häuser', 'Höfe',\n",
    "    'Steuerpflichtige',\n",
    "    ]\n",
    "    ACCEPTED_UNITS = UNIT_EINW_1+UNIT_HAUSHALTE_5\n",
    "    \n",
    "    def __init__(self, year, pop, unit=None, type_=\"original\",ygr=None):\n",
    "        self.year = int(year) \n",
    "        self.pop = float(pop)\n",
    "        self.unit = unit.strip() if unit else \"undefined\"\n",
    "        self.type = type_\n",
    "        self.ygr = ygr\n",
    "    def to_dict(self):\n",
    "        hyjson = copy.copy(self.__dict__)\n",
    "        if \"next\" in hyjson and hyjson[\"next\"]:\n",
    "            hyjson[\"next\"] = hyjson[\"next\"].year\n",
    "        if \"previous\" in hyjson and hyjson[\"previous\"]:\n",
    "            hyjson[\"previous\"] = hyjson[\"previous\"].year\n",
    "        hyjson = {k:v for k,v in hyjson.items() if v}\n",
    "        return hyjson\n",
    "    def to_json(self):\n",
    "        return json.dumps(self.to_dict())\n",
    "    def __str__(self):\n",
    "        type_evidence = \"-ORIGINAL\" if self.type==\"original\" else \"\"\n",
    "        return \"HabYear\"+type_evidence+\"(\"+self.to_json().__str__()+\")\"\n",
    "    def __repr__(self):\n",
    "        return self.__str__()\n",
    "    def __copy__(self):\n",
    "        tr = HabYear(self.year,self.pop,self.unit,self.type,self.ygr)\n",
    "        for k,v in self.__dict__.items():\n",
    "            tr.__dict__[k] = v\n",
    "        return tr\n",
    "    def copy(self): return self.__copy__()\n",
    "    def __deepcopy__(self,memo=None):\n",
    "        tr = self.__copy__()\n",
    "        tr.next = None\n",
    "        tr.previous = None\n",
    "        return tr\n",
    "    def deepcopy(self): return self.__deepcopy__()\n",
    "    def convert_unit_to_Einw(self, conversion_factor):\n",
    "        if self.unit in HabYear.UNIT_HAUSHALTE_5:\n",
    "            self.original_unit = self.unit\n",
    "            self.einw_conversion_factor = conversion_factor\n",
    "            self.pop = int(np.round(conversion_factor*self.pop))\n",
    "        self.unit = \"Einw\"\n",
    "    def compute_growth_rate(self):\n",
    "        # g^dy p1 = p2 -> g = (p2/p1)^(1/dy) -> log(g) = (log(p2)-log(p1))/dy\n",
    "        if self.next:\n",
    "            dy = self.next.year - self.year\n",
    "            self.ygr = (self.next.pop / self.pop) ** (1/dy)\n",
    "        else:\n",
    "            self.ygr = None\n",
    "    @staticmethod\n",
    "    def interpolator(hys, interpolator_func = exponential_interpolator, type_ = \"interpolated\"):\n",
    "        hys = sorted(hys, key=lambda hy:hy.year)\n",
    "        lenhys = len(hys)\n",
    "        if lenhys<=1:\n",
    "                return lambda x: None\n",
    "        else:\n",
    "            pop_interpolator = interpolator_func([(hy.year,hy.pop) for hy in hys])\n",
    "            def hy_interpolate(year):\n",
    "                for hy in hys:\n",
    "                    if hy.year == year: return hy\n",
    "                pop = pop_interpolator(year)\n",
    "                for i in range(0,lenhys-1):\n",
    "                    if hys[i+1].year>year and hys[i].year<=year:\n",
    "                        pred = hys[i]\n",
    "                        return HabYear(year, pop, pred.unit, type_, pred.ygr)\n",
    "                return None\n",
    "            return hy_interpolate"
   ]
  },
  {
   "cell_type": "code",
   "execution_count": null,
   "metadata": {},
   "outputs": [],
   "source": [
    "class HabYearTimeSeries:\n",
    "    def __init__(self, json_hab_year):\n",
    "        self.hab_year = [HabYear(hy[\"year\"], hy[\"pop\"], hy.get(\"unit\"), \"original\") for hy in json_hab_year]\n",
    "        self.raw_hab_year = copy.deepcopy(json_hab_year)\n",
    "    def to_dict(self, only_original = True):\n",
    "        hytsjson = copy.copy(self.__dict__)\n",
    "        if \"interpolate\" in hytsjson:\n",
    "            del hytsjson[\"interpolate\"]\n",
    "        if only_original:\n",
    "            hytsjson[\"hab_year\"] = [hy for hy in hytsjson[\"hab_year\"] if hy.type==\"original\"]\n",
    "        hytsjson[\"hab_year\"] = [hy.to_dict() for hy in hytsjson[\"hab_year\"]]\n",
    "        return hytsjson\n",
    "    def to_json(self):\n",
    "        return json.dumps(self.to_dict())\n",
    "    def __str__(self):\n",
    "        return \"HabYearTimeSeries(\"+self.to_json().__str__()+\")\"\n",
    "    def __repr__(self):\n",
    "        return self.__str__()\n",
    "    def has_pop_data(self, year, type_=None):\n",
    "        for hy in self.hab_year:\n",
    "            if hy.year==year:\n",
    "                if not type_:\n",
    "                    return True\n",
    "                elif hy.type==type:\n",
    "                    return True\n",
    "        return False\n",
    "    def get_hab_year(self,year):\n",
    "        for hy in self.hab_year:\n",
    "            if hy.year==year:\n",
    "                return hy\n",
    "    def order_hab_year(self):\n",
    "        if len(self.hab_year)>1:\n",
    "            self.hab_year = sorted(self.hab_year,key=lambda hy: hy.year)\n",
    "            for i in range(1,len(self.hab_year)):\n",
    "                self.hab_year[i].previous = self.hab_year[i-1]\n",
    "                self.hab_year[i-1].next = self.hab_year[i]\n",
    "            # for original hy: next&previous are only original ones ;-)\n",
    "            original_hab_years = [hy for hy in self.hab_year if hy.type==\"original\"]\n",
    "            for i in range(1,len(original_hab_years)):\n",
    "                original_hab_years[i].previous = original_hab_years[i-1]\n",
    "                original_hab_years[i-1].next = original_hab_years[i]\n",
    "        if len(self.hab_year)>0:\n",
    "            self.hab_year[0].previous = None\n",
    "            self.hab_year[len(self.hab_year)-1].next = None\n",
    "    def detect_duplicated_years(self):\n",
    "        year_dict = {}\n",
    "        for hy in self.hab_year:\n",
    "            if hy.year in year_dict:\n",
    "                year_dict[hy.year].append(hy)\n",
    "            else:\n",
    "                year_dict[hy.year] = [hy]\n",
    "        duplicates = {y:sorted(hys,key=lambda hy: - hy.pop) for y,hys in year_dict.items() if len(hys)>1}\n",
    "        return duplicates\n",
    "    def remove_duplicates(self):\n",
    "        duplicates = self.detect_duplicated_years()\n",
    "        self.hab_year = [hy for hy in self.hab_year if hy.year not in duplicates or (hy.unit==\"Einw\" and self.name not in [\"Därstetten\", \"Egerkingen\"])]\n",
    "    def remove_non_accepted_units(self):\n",
    "                self.hab_year = [hy for hy in self.hab_year if hy.unit in HabYear.ACCEPTED_UNITS]\n",
    "    def convert_hab_year_to_Einw(self, conversion_factor):\n",
    "        for hy in c.hab_year:\n",
    "            hy.convert_unit_to_Einw(conversion_factor)\n",
    "    def compute_growth_rates(self):\n",
    "        #print(f\"self.name: {self.name}\")\n",
    "        for hy in self.hab_year:\n",
    "            hy.compute_growth_rate()\n",
    "    def create_hab_years_interpolator(self):\n",
    "        self.order_hab_year()\n",
    "        self.interpolate = HabYear.interpolator([hy for hy in self.hab_year])\n",
    "    def interpolate_hab_years(self, years):\n",
    "        for y in years:\n",
    "            hy = self.interpolate(y)\n",
    "            if hy and not self.has_pop_data(y) :\n",
    "                self.hab_year.append(hy)\n",
    "        self.order_hab_year()"
   ]
  },
  {
   "cell_type": "code",
   "execution_count": null,
   "metadata": {},
   "outputs": [],
   "source": [
    "\n",
    "            \n",
    "        \n",
    "class Commune(HabYearTimeSeries):\n",
    "    COMMUNES_NAME_REGEX = re.compile(r\"\\W\\(?Gemeinde\\)?\")\n",
    "    def __init__(self, json_commune):\n",
    "        super(Commune, self).__init__(json_commune[\"hab_year\"])\n",
    "        self.name = self.COMMUNES_NAME_REGEX.sub(\"\",json_commune[\"name\"])\n",
    "        self.canton = json_commune[\"canton\"]\n",
    "        self.url = json_commune[\"url\"]\n",
    "        self.firstmention = json_commune[\"firstmention\"] if \"firstmention\" in json_commune else None\n",
    "        self.notes = json_commune[\"notes\"] if \"notes\" in json_commune else \"\"\n",
    "    def __str__(self):\n",
    "        return \"Commune(\"+self.to_json().__str__()+\")\"\n",
    "    def __repr__(self):\n",
    "        return self.__str__()       "
   ]
  },
  {
   "cell_type": "code",
   "execution_count": null,
   "metadata": {},
   "outputs": [],
   "source": [
    "\n",
    "            \n",
    "    "
   ]
  },
  {
   "cell_type": "markdown",
   "metadata": {},
   "source": [
    "# Loading data & assembling reviewedCommunes with non-reviewed communes"
   ]
  },
  {
   "cell_type": "code",
   "execution_count": null,
   "metadata": {},
   "outputs": [],
   "source": [
    "\n",
    "#with open('../1_pop_cleaning/communes_V2_checkpoint_1555579436131.json', 'r') as cf:\n",
    "with open('../1_pop_cleaning/communes_V2_checkpoint_1558469560478.json', 'r') as cf:\n",
    "    data = json.load(cf)\n",
    "    "
   ]
  },
  {
   "cell_type": "code",
   "execution_count": null,
   "metadata": {},
   "outputs": [],
   "source": [
    "\n",
    "reviewedCommunes = data[\"reviewedCommunes\"]\n",
    "communesToReview = data[\"communesToReview\"]\n",
    "\n",
    "# remember that some are reviewed and some not\n",
    "for commune in reviewedCommunes:\n",
    "    commune[\"hand_reviewed\"] = True\n",
    "for commune in communesToReview:\n",
    "    commune[\"hand_reviewed\"] = False\n",
    "    \n",
    "print(\"communes[0].keys()\")\n",
    "print(reviewedCommunes[0].keys())\n",
    "print(\"communesToReview[0].keys()\")\n",
    "print(communesToReview[0].keys())"
   ]
  },
  {
   "cell_type": "code",
   "execution_count": null,
   "metadata": {},
   "outputs": [],
   "source": []
  },
  {
   "cell_type": "code",
   "execution_count": null,
   "metadata": {},
   "outputs": [],
   "source": [
    "# class version\n",
    "\n",
    "columns_communes = [\"name\",\"canton\",\"url\",\"firstmention\",\"hab_year\",\"raw_hab_year\",\"notes\"]\n",
    "\n",
    "existingCommunes = reviewedCommunes+communesToReview\n",
    "existingCommunes = [Commune(json_commune)\n",
    "    for json_commune in existingCommunes\n",
    "]\n",
    "\n",
    "# Drop thurgau for now\n",
    "print(len(existingCommunes))\n",
    "TGcommunes = [c for c in existingCommunes if c.canton==\"TG\"]\n",
    "existingCommunes = [c for c in existingCommunes if c.canton!=\"TG\"]\n",
    "print(len(existingCommunes))\n",
    "\n",
    "#dfcommunes = pd.DataFrame(communes)[columns_communes]\n",
    "\n",
    "#pd.set_option('display.max_rows', None) \n",
    "#dfcommunes"
   ]
  },
  {
   "cell_type": "code",
   "execution_count": null,
   "metadata": {},
   "outputs": [],
   "source": [
    "for c in existingCommunes:\n",
    "    if c.name == \"Därstetten\":\n",
    "        print(\"WHY DÄRSTETTEN?!?!! WHYY!!?\")"
   ]
  },
  {
   "cell_type": "code",
   "execution_count": null,
   "metadata": {},
   "outputs": [],
   "source": []
  },
  {
   "cell_type": "code",
   "execution_count": null,
   "metadata": {},
   "outputs": [],
   "source": [
    "da = [(5,6),(7,8),(9,10)]\n",
    "da"
   ]
  },
  {
   "cell_type": "code",
   "execution_count": null,
   "metadata": {},
   "outputs": [],
   "source": [
    "for i,(a,b) in enumerate(da):\n",
    "    print(f\"{i}: {a}, {b}\")"
   ]
  },
  {
   "cell_type": "markdown",
   "metadata": {},
   "source": [
    "# Loading data & assembling reviewedCommunes with non-reviewed communes"
   ]
  },
  {
   "cell_type": "code",
   "execution_count": null,
   "metadata": {},
   "outputs": [],
   "source": [
    "\n",
    "#with open('../1_pop_cleaning/communes_V2_checkpoint_1555579436131.json', 'r') as cf:\n",
    "with open('../1_pop_cleaning/anciennes_communes_V2_checkpoint_1563790661375.json', 'r') as cf:\n",
    "    data = json.load(cf)\n",
    "    "
   ]
  },
  {
   "cell_type": "code",
   "execution_count": null,
   "metadata": {},
   "outputs": [],
   "source": [
    "\n",
    "reviewedAnciennesCommunes = data[\"reviewedCommunes\"]\n",
    "anciennesCommunesToReview = data[\"communesToReview\"]\n",
    "\n",
    "# remember that some are reviewed and some not\n",
    "for commune in reviewedAnciennesCommunes:\n",
    "    commune[\"hand_reviewed\"] = True\n",
    "for commune in anciennesCommunesToReview:\n",
    "    commune[\"hand_reviewed\"] = False\n",
    "    \n",
    "print(\"communes[0].keys()\")\n",
    "print(reviewedAnciennesCommunes[0].keys())\n",
    "print(\"communesToReview[0].keys()\")\n",
    "print(anciennesCommunesToReview[0].keys())"
   ]
  },
  {
   "cell_type": "code",
   "execution_count": null,
   "metadata": {},
   "outputs": [],
   "source": [
    "# class version\n",
    "\n",
    "columns_communes = [\"name\",\"canton\",\"url\",\"firstmention\",\"hab_year\",\"raw_hab_year\",\"notes\"]\n",
    "\n",
    "anciennesCommunes = reviewedAnciennesCommunes+anciennesCommunesToReview\n",
    "anciennesCommunes = [Commune(json_commune)\n",
    "    for json_commune in anciennesCommunes\n",
    "]\n",
    "\n",
    "# Drop thurgau for now\n",
    "print(len(anciennesCommunes))\n",
    "TGcommunes = [c for c in anciennesCommunes if c.canton==\"TG\"]\n",
    "anciennesCommunes = [c for c in anciennesCommunes if c.canton!=\"TG\"]\n",
    "print(len(anciennesCommunes))\n",
    "\n",
    "#dfcommunes = pd.DataFrame(communes)[columns_communes]\n",
    "\n",
    "#pd.set_option('display.max_rows', None) \n",
    "#dfcommunes"
   ]
  },
  {
   "cell_type": "code",
   "execution_count": null,
   "metadata": {},
   "outputs": [],
   "source": [
    "communes = existingCommunes + anciennesCommunes\n",
    "len(communes)"
   ]
  },
  {
   "cell_type": "markdown",
   "metadata": {},
   "source": [
    "# Available data across time"
   ]
  },
  {
   "cell_type": "code",
   "execution_count": null,
   "metadata": {},
   "outputs": [],
   "source": [
    "years_bins = range(1150,1901,50)\n",
    "\n",
    "years = [hy.year for c in communes for hy in c.hab_year if hy.year<=1850]\n",
    "print(\"min(years) = \", min(years))\n",
    "\n",
    "print(\"Number of observations per year:\")\n",
    "print(pd.Series(years).value_counts(bins=years_bins,sort=False))\n",
    "\n",
    "obs_distrib = sns.distplot(years, bins=years_bins, kde=False, rug=False)\n",
    "obs_distrib.set_title('Distribution des observations à travers le temps')\n",
    "obs_distrib.set(xlabel='Année', ylabel=\"Nombre d'observations\")\n",
    "obs_distrib.get_figure().savefig(\"obs_distrib.png\") \n"
   ]
  },
  {
   "cell_type": "code",
   "execution_count": null,
   "metadata": {},
   "outputs": [],
   "source": [
    "\n",
    "\n",
    "first_years = [min([y for hy in c.hab_year for y in [hy.year] if y<=1850]+[1850]) for c in communes ]\n",
    "\n",
    "first_obs = sns.distplot(first_years, bins=years_bins, hist_kws=dict(cumulative=True),kde=False,rug=False)\n",
    "#first_obs.set_title(\"Cumulative distribution of communes' first observation across time\")\n",
    "first_obs.set_title(\"Distribution cumulative des premières observations de communes à travers le temps\")\n",
    "#first_obs.set(xlabel='year', ylabel='# communes with first \\nobservation before year Y')\n",
    "first_obs.set(xlabel='Année', ylabel=\"Nombres de communes avec \\nla première observation avant l'année A\")\n",
    "first_obs.get_figure().savefig(\"first_obs.png\") "
   ]
  },
  {
   "cell_type": "code",
   "execution_count": null,
   "metadata": {},
   "outputs": [],
   "source": [
    "len([y for y in first_years if y<1600])\n"
   ]
  },
  {
   "cell_type": "markdown",
   "metadata": {},
   "source": [
    "# Unit transformation"
   ]
  },
  {
   "cell_type": "code",
   "execution_count": null,
   "metadata": {},
   "outputs": [],
   "source": [
    "units = [hy.unit  for c in communes for hy in c.hab_year if hy.year<1850]\n",
    "\n",
    "print(\"Number of each type of units:\")\n",
    "print(pd.Series(units).value_counts())"
   ]
  },
  {
   "cell_type": "code",
   "execution_count": null,
   "metadata": {},
   "outputs": [],
   "source": [
    "pd.Series(units).unique()"
   ]
  },
  {
   "cell_type": "code",
   "execution_count": null,
   "metadata": {},
   "outputs": [],
   "source": []
  },
  {
   "cell_type": "markdown",
   "metadata": {},
   "source": [
    "### Finding the conversion factor"
   ]
  },
  {
   "cell_type": "code",
   "execution_count": null,
   "metadata": {},
   "outputs": [],
   "source": [
    "\n",
    "def one1one5(a,b):\n",
    "    return (a.unit in HabYear.UNIT_EINW_1 and b.unit in HabYear.UNIT_HAUSHALTE_5) or (a.unit in HabYear.UNIT_HAUSHALTE_5 and b.unit in HabYear.UNIT_EINW_1)\n",
    "\n",
    "\n",
    "# find duplicates\n",
    "duplicates = [(c.name,c.canton,y,hys) for c in communes for y,hys in c.detect_duplicated_years().items() if one1one5(hys[0],hys[1])]\n",
    "\n",
    "dfduplicates = pd.DataFrame([{\n",
    "    \"commune\": cname,\n",
    "    \"canton\": canton,\n",
    "    \"year\": y,\n",
    "    \"pop_einw\": hys[0].pop,\n",
    "    \"pop_haus\": hys[1].pop,\n",
    "    \"ratio\": hys[0].pop / hys[1].pop,\n",
    "    \"unit_haus\": hys[1].unit} for cname, canton, y, hys in duplicates])\n",
    "dfduplicates = dfduplicates.sort_values([\"year\",\"unit_haus\",\"commune\"])\n",
    "print(\"Number of double Haushaltungen-Einw data\")\n",
    "print(len(duplicates))\n",
    "dfduplicates"
   ]
  },
  {
   "cell_type": "code",
   "execution_count": null,
   "metadata": {},
   "outputs": [],
   "source": []
  },
  {
   "cell_type": "code",
   "execution_count": null,
   "metadata": {},
   "outputs": [],
   "source": []
  },
  {
   "cell_type": "code",
   "execution_count": null,
   "metadata": {},
   "outputs": [],
   "source": []
  },
  {
   "cell_type": "code",
   "execution_count": null,
   "metadata": {},
   "outputs": [],
   "source": [
    "def boxplot_condition(df, groupings, ax=plt):\n",
    "    groupings = [(unit, f, f(dfduplicates)) for unit, f in groupings]\n",
    "    ax.boxplot(\n",
    "        [df.ratio.loc[condition] for unit, f, condition  in groupings],\n",
    "        labels = [unit+f\" ({np.sum(condition)}, mean: {np.round(np.mean(df.ratio.loc[condition]),2)})\" for unit, f, condition in groupings]\n",
    "        )\n",
    "    #ax.xticks(rotation=10)\n",
    "    ax.tick_params(labelrotation=10)\n",
    "\n",
    "    "
   ]
  },
  {
   "cell_type": "code",
   "execution_count": null,
   "metadata": {},
   "outputs": [],
   "source": [
    "f, (ax1, ax2, ax3) = plt.subplots(1, 3, figsize=(18,4.8))\n",
    "\n",
    "haus_units = [\n",
    "    (\"all\", lambda df: df.pop_haus>0),\n",
    "    (\"Haushalte\", lambda df: (df.unit_haus ==\"Haushaltungen\") | (df.unit_haus==\"Haushalte\")),\n",
    "    (\"Häuser\", lambda df: df.unit_haus==\"Häuser\"),\n",
    "    (\"Feuerstätten\", lambda df: df.unit_haus==\"Feuerstätten\"),\n",
    "    (\"Steuerpflichtige\", lambda df: df.unit_haus==\"Steuerpflichtige\")\n",
    "]\n",
    "\n",
    "haus_years= [\n",
    "    (\"all\", lambda df: df.year>=0),\n",
    "    (\">1750\", lambda df: df.year>1750),\n",
    "    (\"1650-1749\", lambda df: (df.year>1650) & (df.year<=1750)),\n",
    "    (\"<1650\", lambda df:  df.year<=1650),\n",
    "]\n",
    "\n",
    "haus_cantons = [\n",
    "    (\"all\", lambda df: df.pop_haus>0),\n",
    "    (\"VD\", lambda df: df.canton ==\"VD\"),\n",
    "    (\"others\", lambda df: df.canton !=\"VD\"),\n",
    "]\n",
    "\n",
    "boxplot_condition(dfduplicates, haus_units, ax1)\n",
    "ax1.set_title(\"conversion factor boxplot depending on type of unit\")\n",
    "boxplot_condition(dfduplicates, haus_years, ax2)\n",
    "ax2.set_title(\"conversion factor boxplot depending on year of observation\")\n",
    "boxplot_condition(dfduplicates, haus_cantons, ax3)\n",
    "ax3.set_title(\"conversion factor boxplot depending on canton\")\n",
    "None"
   ]
  },
  {
   "cell_type": "code",
   "execution_count": null,
   "metadata": {},
   "outputs": [],
   "source": [
    "conversion_factor = np.mean(dfduplicates.ratio)\n",
    "print(f\"conversion factor: {np.round(conversion_factor,3)}\")"
   ]
  },
  {
   "cell_type": "code",
   "execution_count": null,
   "metadata": {},
   "outputs": [],
   "source": []
  },
  {
   "cell_type": "markdown",
   "metadata": {},
   "source": [
    "### Doing the conversion\n",
    "\n",
    "Remove non-Einw data in duplicated years, as well as non-accepted units"
   ]
  },
  {
   "cell_type": "code",
   "execution_count": null,
   "metadata": {},
   "outputs": [],
   "source": [
    "for c in communes:\n",
    "    c.remove_duplicates()\n",
    "    c.remove_non_accepted_units()\n",
    "    c.convert_hab_year_to_Einw(conversion_factor)"
   ]
  },
  {
   "cell_type": "code",
   "execution_count": null,
   "metadata": {},
   "outputs": [],
   "source": []
  },
  {
   "cell_type": "code",
   "execution_count": null,
   "metadata": {},
   "outputs": [],
   "source": [
    "c = communes[9]\n",
    "duplicates = c.detect_duplicated_years()\n",
    "c.hab_year"
   ]
  },
  {
   "cell_type": "code",
   "execution_count": null,
   "metadata": {},
   "outputs": [],
   "source": []
  },
  {
   "cell_type": "code",
   "execution_count": null,
   "metadata": {},
   "outputs": [],
   "source": []
  },
  {
   "cell_type": "code",
   "execution_count": null,
   "metadata": {},
   "outputs": [],
   "source": []
  },
  {
   "cell_type": "code",
   "execution_count": null,
   "metadata": {},
   "outputs": [],
   "source": [
    "units = [hy.unit  for c in communes for hy in c.hab_year if hy.year<1850]\n",
    "\n",
    "print(\"Number of each type of units:\")\n",
    "print(pd.Series(units).value_counts())"
   ]
  },
  {
   "cell_type": "code",
   "execution_count": null,
   "metadata": {},
   "outputs": [],
   "source": []
  },
  {
   "cell_type": "code",
   "execution_count": null,
   "metadata": {},
   "outputs": [],
   "source": []
  },
  {
   "cell_type": "code",
   "execution_count": null,
   "metadata": {},
   "outputs": [],
   "source": []
  },
  {
   "cell_type": "code",
   "execution_count": null,
   "metadata": {},
   "outputs": [],
   "source": []
  },
  {
   "cell_type": "markdown",
   "metadata": {},
   "source": [
    "### Computing growth rates"
   ]
  },
  {
   "cell_type": "code",
   "execution_count": null,
   "metadata": {},
   "outputs": [],
   "source": [
    "for c in communes:\n",
    "    c.order_hab_year()\n",
    "    c.compute_growth_rates()\n",
    "    "
   ]
  },
  {
   "cell_type": "code",
   "execution_count": null,
   "metadata": {},
   "outputs": [],
   "source": [
    "zillis = [c for c in communes if \"Zillis\" in c.name and \"Reischen\" not in c.name][0]\n",
    "zillis.hab_year"
   ]
  },
  {
   "cell_type": "code",
   "execution_count": null,
   "metadata": {},
   "outputs": [],
   "source": []
  },
  {
   "cell_type": "markdown",
   "metadata": {},
   "source": [
    "# Doing the interpolation\n",
    "\n",
    "Create an interpolator per commune:"
   ]
  },
  {
   "cell_type": "code",
   "execution_count": null,
   "metadata": {},
   "outputs": [],
   "source": [
    "for c in communes:\n",
    "    c.create_hab_years_interpolator()\n",
    "    "
   ]
  },
  {
   "cell_type": "code",
   "execution_count": null,
   "metadata": {},
   "outputs": [],
   "source": []
  },
  {
   "cell_type": "markdown",
   "metadata": {},
   "source": [
    "## How to extrapolate for communes without data?\n",
    "\n",
    "### options:\n",
    "- compute year-by-year growth rates for communes with data\n",
    "   -> use the average per-year growth rate to find a growth-rates time series back in time\n",
    "   -> use this growth-rate time series to go back in time\n",
    "- use timespans of size X: compute average growth rate in each timespan\n",
    "    -> go back in time with those growth rates\n",
    "    \n",
    "### proposition:\n",
    "- each hy has a \"type\" entry with possible values: \"original\", \"interpolated\", \"extrapolated\"\n",
    "- define function compute_growth_rate(c,y1,y2):\n",
    "    return None if no data surrounding y1, y2\n",
    "    return growth rate if it exists\n",
    "- iterate over communes and timespans\n",
    "    compute_growth_rate(...)\n",
    "    -> growth rate of timespan = avg of computed growth rate\n",
    "    \n",
    "## TODO:\n",
    "- compute_growth((x1,y1),(x2,y2))\n",
    "- compute_growth(c,y1,y2)"
   ]
  },
  {
   "cell_type": "code",
   "execution_count": null,
   "metadata": {},
   "outputs": [],
   "source": [
    "all_years = np.unique(sorted(years))"
   ]
  },
  {
   "cell_type": "markdown",
   "metadata": {},
   "source": [
    "compute all the intermediate year:"
   ]
  },
  {
   "cell_type": "code",
   "execution_count": null,
   "metadata": {},
   "outputs": [],
   "source": [
    "for c in communes:\n",
    "    c.interpolate_hab_years(all_years)"
   ]
  },
  {
   "cell_type": "code",
   "execution_count": null,
   "metadata": {},
   "outputs": [],
   "source": []
  },
  {
   "cell_type": "markdown",
   "metadata": {},
   "source": [
    "### Computing the average growth rate in each year"
   ]
  },
  {
   "cell_type": "code",
   "execution_count": null,
   "metadata": {},
   "outputs": [],
   "source": [
    "\n",
    "def compute_avg_growth_rates(communes,years, refy=1850, max_pop_at_refy = 10000):\n",
    "    \"\"\"Assumes that each communes has the required data for each year (pop+growth rates)\n",
    "    Note: the pop element (element 1 of each tuple) represents the population of communes with data at this moment\n",
    "    \"\"\"\n",
    "    result = [(y,0,0) for y in years] # year: (total pop, total growth rate)\n",
    "    for c in communes:\n",
    "        refhy = c.interpolate(refy)\n",
    "        if refhy and refhy.pop<max_pop_at_refy:\n",
    "            for i,(y,pop,gr) in enumerate(result):\n",
    "                hy = c.get_hab_year(y)\n",
    "                if hy and hy.pop and hy.ygr:\n",
    "                    result[i] = (y, pop+hy.pop, gr+(hy.pop*hy.ygr))\n",
    "    for i,(y,pop,gr) in enumerate(result):\n",
    "        dy = 0\n",
    "        if i<(len(result)-1):\n",
    "            dy = result[i+1][0] - y\n",
    "        ygr = gr/pop\n",
    "        result[i] = (y,pop,ygr, ygr**dy, dy)\n",
    "    return result"
   ]
  },
  {
   "cell_type": "code",
   "execution_count": null,
   "metadata": {},
   "outputs": [],
   "source": [
    "avg_ygr = compute_avg_growth_rates(communes,all_years)\n",
    "avg_ygr\n"
   ]
  },
  {
   "cell_type": "code",
   "execution_count": null,
   "metadata": {},
   "outputs": [],
   "source": [
    "#avg_ygr_fig = plt.plot([yd[0] for yd in avg_ygr],[yd[2] for yd in avg_ygr])\n",
    "avg_ygr_fig = sns.lineplot([yd[0] for yd in avg_ygr],[100*yd[2] for yd in avg_ygr])\n",
    "#avg_ygr_fig.set_title(\"yearly growth rate (weighted average across communes with data in given year)\")\n",
    "avg_ygr_fig.set_title(\"Taux de croissance annuel (moyenne pondérée des communes avec données autour de l'année donnée)\")\n",
    "#avg_ygr_fig.set(xlabel='year', ylabel='yearly growth rate (%)')\n",
    "avg_ygr_fig.set(xlabel='Année', ylabel='Taux de croissance annuel (%)')\n",
    "avg_ygr_fig.get_figure().savefig(\"avg_ygr.png\") "
   ]
  },
  {
   "cell_type": "code",
   "execution_count": null,
   "metadata": {},
   "outputs": [],
   "source": [
    "df_ygr = pd.DataFrame(avg_ygr, columns = [\"year\",\"data_pop\",\"ygr\",\"gr\",\"duration\"])\n",
    "df_ygr.head()"
   ]
  },
  {
   "cell_type": "markdown",
   "metadata": {},
   "source": [
    "### Writing out the results"
   ]
  },
  {
   "cell_type": "code",
   "execution_count": null,
   "metadata": {},
   "outputs": [],
   "source": [
    "dfcommunes = pd.DataFrame([c.to_dict() for c in communes])[columns_communes]\n",
    "\n",
    "#pd.set_option('display.max_rows', None) \n",
    "dfcommunes"
   ]
  },
  {
   "cell_type": "code",
   "execution_count": null,
   "metadata": {},
   "outputs": [],
   "source": [
    "dfcommunes.to_csv(\"communes_units_converted.csv\", sep=\";\")"
   ]
  },
  {
   "cell_type": "code",
   "execution_count": null,
   "metadata": {},
   "outputs": [],
   "source": [
    "with open('communes_units_converted.json', 'w') as json_file:\n",
    "  json.dump([c.to_dict() for c in communes], json_file)"
   ]
  },
  {
   "cell_type": "code",
   "execution_count": null,
   "metadata": {},
   "outputs": [],
   "source": [
    "df_ygr.to_csv(\"../3_maps/avg_yearly_growth_rates.csv\", sep=\";\", index=False)"
   ]
  },
  {
   "cell_type": "code",
   "execution_count": null,
   "metadata": {},
   "outputs": [],
   "source": [
    "communes[2161]"
   ]
  },
  {
   "cell_type": "code",
   "execution_count": null,
   "metadata": {},
   "outputs": [],
   "source": []
  },
  {
   "cell_type": "code",
   "execution_count": null,
   "metadata": {},
   "outputs": [],
   "source": []
  },
  {
   "cell_type": "code",
   "execution_count": null,
   "metadata": {},
   "outputs": [],
   "source": []
  },
  {
   "cell_type": "markdown",
   "metadata": {},
   "source": [
    "# TEST"
   ]
  },
  {
   "cell_type": "code",
   "execution_count": null,
   "metadata": {},
   "outputs": [],
   "source": [
    "minc = [c for c in communes if min([1300]+[hy.year for hy in c.hab_year])<=1200]"
   ]
  },
  {
   "cell_type": "code",
   "execution_count": null,
   "metadata": {},
   "outputs": [],
   "source": [
    "for c in minc:\n",
    "    print(c.name)"
   ]
  },
  {
   "cell_type": "code",
   "execution_count": null,
   "metadata": {},
   "outputs": [],
   "source": [
    "minc[2].hab_year"
   ]
  },
  {
   "cell_type": "code",
   "execution_count": null,
   "metadata": {},
   "outputs": [],
   "source": []
  }
 ],
 "metadata": {
  "kernelspec": {
   "display_name": "Python 3",
   "language": "python",
   "name": "python3"
  },
  "language_info": {
   "codemirror_mode": {
    "name": "ipython",
    "version": 3
   },
   "file_extension": ".py",
   "mimetype": "text/x-python",
   "name": "python",
   "nbconvert_exporter": "python",
   "pygments_lexer": "ipython3",
   "version": "3.7.3"
  }
 },
 "nbformat": 4,
 "nbformat_minor": 2
}
