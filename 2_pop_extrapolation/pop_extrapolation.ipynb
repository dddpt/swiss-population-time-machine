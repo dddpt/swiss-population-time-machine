{
 "cells": [
  {
   "cell_type": "code",
   "execution_count": null,
   "metadata": {},
   "outputs": [],
   "source": [
    "import math\n",
    "import json\n",
    "import re\n",
    "import copy\n",
    "\n",
    "import numpy as np\n",
    "import pandas as pd\n",
    "import sklearn as sk\n",
    "import matplotlib.pyplot as plt\n",
    "import seaborn as sns\n",
    "\n",
    "sns.set(style=\"darkgrid\")\n",
    "\n",
    "# Load an example dataset with long-form data\n",
    "#fmri = sns.load_dataset(\"fmri\")\n",
    "\n",
    "# Plot the responses for different events and regions\n",
    "#plt = sns.lineplot(x=\"timepoint\", y=\"signal\",\n",
    "#             hue=\"region\", style=\"event\",\n",
    "#             data=fmri)\n",
    "\n",
    "\n",
    "#plt.show()"
   ]
  },
  {
   "cell_type": "code",
   "execution_count": null,
   "metadata": {},
   "outputs": [],
   "source": [
    "\n",
    "#with open('../1_pop_cleaning/communes_VD_clean.json', 'r') as cf:\n",
    "#    communes = json.load(cf)\n",
    "#    for c in communes:\n",
    "#        for hy in c[\"hab_year\"]:\n",
    "#            hy[\"pop\"] = int(hy[\"pop\"])\n",
    "#            hy[\"year\"] = int(hy[\"year\"])\n",
    "#cdata = pd.DataFrame(communes)\n",
    "#cdata"
   ]
  },
  {
   "cell_type": "code",
   "execution_count": null,
   "metadata": {},
   "outputs": [],
   "source": [
    "def interpolator(data_points):\n",
    "    \"\"\"Returns a linear interpolator from the given dataPoints\n",
    "    @param {*} dataPoints an array of length 2 arrays, each sub-array is a coordinate with sub-array[0]=x, sub-array[1]=y\n",
    "    @returns interpolate(x) a function taking a value x and returning the linear interpolation of y at x, or null if x is outside the x range of dataPoints\n",
    "    \"\"\"\n",
    "    data_points = sorted(data_points, key=lambda hy:hy[0])\n",
    "    if len(data_points)<=1:\n",
    "            return lambda x: None\n",
    "    else:\n",
    "        def interpolate(x):\n",
    "            if data_points[0][0]==x:\n",
    "                return data_points[0][1]\n",
    "            for i in range(1,len(data_points)):\n",
    "                if data_points[i][0]>=x and data_points[i-1][0]<=x:\n",
    "                    a = data_points[i-1]\n",
    "                    b = data_points[i]\n",
    "                    return a[1]+ (b[1]-a[1])/(b[0]-a[0]) * (x-a[0])\n",
    "            return None\n",
    "        return interpolate\n",
    "    "
   ]
  },
  {
   "cell_type": "code",
   "execution_count": null,
   "metadata": {},
   "outputs": [],
   "source": [
    "def exponential_interpolator(data_points):\n",
    "    linear_interpolator = interpolator([(dp[0],math.log(dp[1])) for dp in data_points])\n",
    "    def exp_interpolate(x):\n",
    "        log_result = linear_interpolator(x)\n",
    "        if log_result:\n",
    "            return math.exp(log_result)\n",
    "    return exp_interpolate"
   ]
  },
  {
   "cell_type": "code",
   "execution_count": null,
   "metadata": {},
   "outputs": [],
   "source": []
  },
  {
   "cell_type": "code",
   "execution_count": null,
   "metadata": {},
   "outputs": [],
   "source": [
    "a = [(0.01,0.1),(1,1),(2,3),(3,6)]\n",
    "print(f\"a = {a}\")\n",
    "x=2.5\n",
    "interp = interpolator(a)\n",
    "print(f\"interp({x}) = {interp(x)}\")\n",
    "expterp = exponential_interpolator(a)\n",
    "print(f\"expterp({x}) = {expterp(x)}\")"
   ]
  },
  {
   "cell_type": "code",
   "execution_count": null,
   "metadata": {},
   "outputs": [],
   "source": [
    "class HabYear:\n",
    "    UNIT_EINW_1 = ['Beisassen',\n",
    "    'Bürger',\n",
    "    'Einw',\n",
    "    'Einw Feuerschaukreis',\n",
    "    'Einw Kirchgem.',\n",
    "    'Einw. Kirchgem', 'Einwohner',\n",
    "    'Kirchgenossen', 'Kommunikanten'\n",
    "    ]\n",
    "    UNIT_HAUSHALTE_5 = [\n",
    "    'Erwachsene', 'Erwachsenen', 'Fam', 'Feuerstellen', 'Feuerstätten',\n",
    "    'Feuerstätten (mit Sermuz, heute Gem', 'Haushalt', 'Haushalte',\n",
    "    'Haushalte Kirchgem', 'Haushaltungen', 'Hausväter', 'Herdstellen',\n",
    "    'Herdstätten', 'Hofgenossen', 'Hofstätten', 'Häuser', 'Höfe',\n",
    "    'Steuerpflichtige',\n",
    "    ]\n",
    "    ACCEPTED_UNITS = UNIT_EINW_1+UNIT_HAUSHALTE_5\n",
    "    \n",
    "    def __init__(self, year, pop, unit=None, type_=\"original\"):\n",
    "        self.year = int(year) \n",
    "        self.pop = int(pop)\n",
    "        self.unit = unit.strip() if unit else \"undefined\"\n",
    "        self.type = type_\n",
    "    def to_json(self):\n",
    "        json = copy.deepcopy(self.__dict__)\n",
    "        if \"next\" in json and json[\"next\"]:\n",
    "            #del json[\"next\"]\n",
    "            json[\"next\"] = json[\"next\"].year\n",
    "        if \"previous\" in json and json[\"previous\"]:\n",
    "            #del json[\"previous\"]\n",
    "            json[\"previous\"] = json[\"previous\"].year\n",
    "        return json\n",
    "    def __str__(self):\n",
    "        return self.to_json().__str__()\n",
    "    def __repr__(self):\n",
    "        return self.__str__()\n",
    "    def convert_unit_to_Einw(self, conversion_factor):\n",
    "        if self.unit in HabYear.UNIT_HAUSHALTE_5:\n",
    "            self.original_unit = self.unit\n",
    "            self.einw_conversion_factor = conversion_factor\n",
    "            self.pop = int(np.round(conversion_factor*self.pop))\n",
    "        self.unit = \"Einw\"\n",
    "    def compute_growth_rate(self):\n",
    "        # g^dy p1 = p2 -> g = (p2/p1)^(1/dy) -> log(g) = (log(p2)-log(p1))/dy\n",
    "        if self.next:\n",
    "            dy = self.next.year - self.year\n",
    "            self.ygr = (self.next.pop / self.pop) ** (1/dy)\n",
    "    @staticmethod\n",
    "    def interpolator(interp, unit=\"Einw\"):\n",
    "        def hy_interp(year):\n",
    "            pop = interp(year)\n",
    "            if pop:\n",
    "                return HabYear(year, pop, unit, \"interpolated\")\n",
    "        return hy_interp"
   ]
  },
  {
   "cell_type": "code",
   "execution_count": null,
   "metadata": {},
   "outputs": [],
   "source": [
    "\n",
    "            \n",
    "        \n",
    "class Commune:\n",
    "    COMMUNES_NAME_REGEX = re.compile(r\"\\W\\(?Gemeinde\\)?\")\n",
    "    def __init__(self, json_commune):\n",
    "        self.name = self.COMMUNES_NAME_REGEX.sub(\"\",json_commune[\"name\"])\n",
    "        self.canton = json_commune[\"canton\"]\n",
    "        self.url = json_commune[\"url\"]\n",
    "        self.firstmention = json_commune[\"firstmention\"] if \"firstmention\" in json_commune else None\n",
    "        self.notes = json_commune[\"notes\"] if \"notes\" in json_commune else \"\"\n",
    "        self.hab_year = [HabYear(hy[\"year\"], hy[\"pop\"], hy.get(\"unit\"), \"original\") for hy in json_commune[\"hab_year\"]]\n",
    "        self.raw_hab_year = copy.deepcopy(json_commune[\"hab_year\"])\n",
    "    def to_json(self):\n",
    "        json = copy.deepcopy(self.__dict__)\n",
    "        json[\"hab_year\"] = [hy.to_json() for hy in json[\"hab_year\"]]\n",
    "        return json\n",
    "    def __str__(self):\n",
    "        return self.to_json().__str__()\n",
    "    def __repr__(self):\n",
    "        return self.__str__()\n",
    "    def has_pop_data(self,year):\n",
    "        return year in [hy.year for hy in self.hab_year]\n",
    "    def order_hab_year(self):\n",
    "        if len(self.hab_year)>1:\n",
    "            self.hab_year = sorted(self.hab_year,key=lambda hy: hy.year)\n",
    "            for i in range(1,len(self.hab_year)):\n",
    "                self.hab_year[i].previous = self.hab_year[i-1]\n",
    "                self.hab_year[i-1].next = self.hab_year[i]\n",
    "            # for original hy: next&previous are only original ones ;-)\n",
    "            original_hab_years = [hy for hy in self.hab_year if hy.type==\"original\"]\n",
    "            for i in range(1,len(original_hab_years)):\n",
    "                original_hab_years[i].previous = original_hab_years[i-1]\n",
    "                original_hab_years[i-1].next = original_hab_years[i]\n",
    "        if len(self.hab_year)>0:\n",
    "            self.hab_year[0].previous = None\n",
    "            self.hab_year[len(self.hab_year)-1].next = None\n",
    "    def detect_duplicated_years(self):\n",
    "        year_dict = {}\n",
    "        for hy in self.hab_year:\n",
    "            if hy.year in year_dict:\n",
    "                year_dict[hy.year].append(hy)\n",
    "            else:\n",
    "                year_dict[hy.year] = [hy]\n",
    "        duplicates = {y:sorted(hys,key=lambda hy: - hy.pop) for y,hys in year_dict.items() if len(hys)>1}\n",
    "        return duplicates\n",
    "    def remove_duplicates(self):\n",
    "        duplicates = self.detect_duplicated_years()\n",
    "        self.hab_year = [hy for hy in self.hab_year if hy.year not in duplicates or (hy.unit==\"Einw\" and self.name not in [\"Därstetten\", \"Egerkingen\"])]\n",
    "    def remove_non_accepted_units(self):\n",
    "                self.hab_year = [hy for hy in self.hab_year if hy.unit in HabYear.ACCEPTED_UNITS]\n",
    "    def convert_hab_year_to_Einw(self, conversion_factor):\n",
    "        for hy in c.hab_year:\n",
    "            hy.convert_unit_to_Einw(conversion_factor)\n",
    "    def create_hab_year_interpolator(self, years):\n",
    "        self.order_hab_year()\n",
    "        interp_space = [(hy.year,hy.pop) for hy in self.hab_year if hy.type==\"original\"]\n",
    "        self.interpolator = exponential_interpolator(interp_space)\n",
    "        self.hy_interpolator = hy_interpolator(self.interpolator)\n",
    "    def interpolate_hab_year(years):\n",
    "        for hy in c.hab_year:\n",
    "            hy.compute_growth_rate()\n",
    "        for y in years:\n",
    "        hy = self.hy_interpolator(y)\n",
    "        if hy and not self.has_pop_data(y) :\n",
    "            self.hab_year.append(hy)\n",
    "        #print(f\"{i} {c.name}\")\n",
    "        c.order_hab_year()\n",
    "        "
   ]
  },
  {
   "cell_type": "markdown",
   "metadata": {},
   "source": [
    "# Loading data & assembling reviewedCommunes with non-reviewed communes"
   ]
  },
  {
   "cell_type": "code",
   "execution_count": null,
   "metadata": {},
   "outputs": [],
   "source": [
    "\n",
    "#with open('../1_pop_cleaning/communes_V2_checkpoint_1555579436131.json', 'r') as cf:\n",
    "with open('../1_pop_cleaning/communes_V2_checkpoint_1558469560478.json', 'r') as cf:\n",
    "    data = json.load(cf)\n",
    "    "
   ]
  },
  {
   "cell_type": "code",
   "execution_count": null,
   "metadata": {},
   "outputs": [],
   "source": [
    "\n",
    "reviewedCommunes = data[\"reviewedCommunes\"]\n",
    "communesToReview = data[\"communesToReview\"]\n",
    "\n",
    "# remember that some are reviewed and some not\n",
    "for commune in reviewedCommunes:\n",
    "    commune[\"hand_reviewed\"] = True\n",
    "for commune in communesToReview:\n",
    "    commune[\"hand_reviewed\"] = False\n",
    "    \n",
    "print(\"communes[0].keys()\")\n",
    "print(reviewedCommunes[0].keys())\n",
    "print(\"communesToReview[0].keys()\")\n",
    "print(communesToReview[0].keys())"
   ]
  },
  {
   "cell_type": "code",
   "execution_count": null,
   "metadata": {},
   "outputs": [],
   "source": []
  },
  {
   "cell_type": "code",
   "execution_count": null,
   "metadata": {},
   "outputs": [],
   "source": [
    "# class version\n",
    "\n",
    "columns_communes = [\"name\",\"canton\",\"url\",\"firstmention\",\"hab_year\",\"raw_hab_year\",\"notes\"]\n",
    "\n",
    "communes = reviewedCommunes+communesToReview\n",
    "communes = [Commune(json_commune)\n",
    "    for json_commune in communes\n",
    "]\n",
    "\n",
    "# Drop thurgau for now\n",
    "print(len(communes))\n",
    "TGcommunes = [c for c in communes if c.canton==\"TG\"]\n",
    "communes = [c for c in communes if c.canton!=\"TG\"]\n",
    "print(len(communes))\n",
    "\n",
    "#dfcommunes = pd.DataFrame(communes)[columns_communes]\n",
    "\n",
    "#pd.set_option('display.max_rows', None) \n",
    "#dfcommunes"
   ]
  },
  {
   "cell_type": "code",
   "execution_count": null,
   "metadata": {},
   "outputs": [],
   "source": [
    "for c in communes:\n",
    "    if c.name == \"Därstetten\":\n",
    "        print(\"WHY DÄRSTETTEN?!?!! WHYY!!?\")"
   ]
  },
  {
   "cell_type": "code",
   "execution_count": null,
   "metadata": {},
   "outputs": [],
   "source": []
  },
  {
   "cell_type": "code",
   "execution_count": null,
   "metadata": {},
   "outputs": [],
   "source": []
  },
  {
   "cell_type": "code",
   "execution_count": null,
   "metadata": {},
   "outputs": [],
   "source": []
  },
  {
   "cell_type": "markdown",
   "metadata": {},
   "source": [
    "# Available data across time"
   ]
  },
  {
   "cell_type": "code",
   "execution_count": null,
   "metadata": {},
   "outputs": [],
   "source": [
    "years_bins = range(1150,1901,50)\n",
    "\n",
    "years = [hy.year for c in communes for hy in c.hab_year if hy.year<=1850]\n",
    "print(\"min(years) = \", min(years))\n",
    "\n",
    "print(\"Number of observations per year:\")\n",
    "print(pd.Series(years).value_counts(bins=years_bins,sort=False))\n",
    "\n",
    "sns.distplot(years, bins=years_bins, kde=False, rug=False).set_title('Number of observations across time')"
   ]
  },
  {
   "cell_type": "code",
   "execution_count": null,
   "metadata": {},
   "outputs": [],
   "source": [
    "\n",
    "\n",
    "first_years = [min([y for hy in c.hab_year for y in [hy.year] if y<=1850]+[1850]) for c in communes ]\n",
    "\n",
    "sns.distplot(first_years, bins=years_bins, hist_kws=dict(cumulative=True),kde=False,rug=False).set_title(\"Number of communes with first observation before year Y\")"
   ]
  },
  {
   "cell_type": "code",
   "execution_count": null,
   "metadata": {},
   "outputs": [],
   "source": []
  },
  {
   "cell_type": "markdown",
   "metadata": {},
   "source": [
    "# Unit transformation"
   ]
  },
  {
   "cell_type": "code",
   "execution_count": null,
   "metadata": {},
   "outputs": [],
   "source": [
    "units = [hy.unit  for c in communes for hy in c.hab_year if hy.year<1850]\n",
    "\n",
    "print(\"Number of each type of units:\")\n",
    "print(pd.Series(units).value_counts())"
   ]
  },
  {
   "cell_type": "code",
   "execution_count": null,
   "metadata": {},
   "outputs": [],
   "source": [
    "pd.Series(units).unique()"
   ]
  },
  {
   "cell_type": "code",
   "execution_count": null,
   "metadata": {},
   "outputs": [],
   "source": []
  },
  {
   "cell_type": "markdown",
   "metadata": {},
   "source": [
    "### Finding the conversion factor"
   ]
  },
  {
   "cell_type": "code",
   "execution_count": null,
   "metadata": {},
   "outputs": [],
   "source": [
    "\n",
    "def one1one5(a,b):\n",
    "    return (a.unit in HabYear.UNIT_EINW_1 and b.unit in HabYear.UNIT_HAUSHALTE_5) or (a.unit in HabYear.UNIT_HAUSHALTE_5 and b.unit in HabYear.UNIT_EINW_1)\n",
    "\n",
    "\n",
    "# find duplicates\n",
    "duplicates = [(c.name,c.canton,y,hys) for c in communes for y,hys in c.detect_duplicated_years().items() if one1one5(hys[0],hys[1])]\n",
    "\n",
    "dfduplicates = pd.DataFrame([{\n",
    "    \"commune\": cname,\n",
    "    \"canton\": canton,\n",
    "    \"year\": y,\n",
    "    \"pop_einw\": hys[0].pop,\n",
    "    \"pop_haus\": hys[1].pop,\n",
    "    \"ratio\": hys[0].pop / hys[1].pop,\n",
    "    \"unit_haus\": hys[1].unit} for cname, canton, y, hys in duplicates])\n",
    "dfduplicates = dfduplicates.sort_values([\"year\",\"unit_haus\",\"commune\"])\n",
    "print(\"Number of double Haushaltungen-Einw data\")\n",
    "print(len(duplicates))\n",
    "dfduplicates"
   ]
  },
  {
   "cell_type": "code",
   "execution_count": null,
   "metadata": {},
   "outputs": [],
   "source": []
  },
  {
   "cell_type": "code",
   "execution_count": null,
   "metadata": {},
   "outputs": [],
   "source": []
  },
  {
   "cell_type": "code",
   "execution_count": null,
   "metadata": {},
   "outputs": [],
   "source": []
  },
  {
   "cell_type": "code",
   "execution_count": null,
   "metadata": {},
   "outputs": [],
   "source": [
    "def boxplot_condition(df, groupings, ax=plt):\n",
    "    groupings = [(unit, f, f(dfduplicates)) for unit, f in groupings]\n",
    "    ax.boxplot(\n",
    "        [df.ratio.loc[condition] for unit, f, condition  in groupings],\n",
    "        labels = [unit+f\" ({np.sum(condition)}, mean: {np.round(np.mean(df.ratio.loc[condition]),2)})\" for unit, f, condition in groupings]\n",
    "        )\n",
    "    #ax.xticks(rotation=10)\n",
    "    ax.tick_params(labelrotation=10)\n",
    "\n",
    "    "
   ]
  },
  {
   "cell_type": "code",
   "execution_count": null,
   "metadata": {},
   "outputs": [],
   "source": [
    "f, (ax1, ax2, ax3) = plt.subplots(1, 3, figsize=(18,4.8))\n",
    "\n",
    "haus_units = [\n",
    "    (\"all\", lambda df: df.pop_haus>0),\n",
    "    (\"Haushalte\", lambda df: (df.unit_haus ==\"Haushaltungen\") | (df.unit_haus==\"Haushalte\")),\n",
    "    (\"Häuser\", lambda df: df.unit_haus==\"Häuser\"),\n",
    "    (\"Feuerstätten\", lambda df: df.unit_haus==\"Feuerstätten\"),\n",
    "    (\"Steuerpflichtige\", lambda df: df.unit_haus==\"Steuerpflichtige\")\n",
    "]\n",
    "\n",
    "haus_years= [\n",
    "    (\"all\", lambda df: df.year>=0),\n",
    "    (\">1750\", lambda df: df.year>1750),\n",
    "    (\"1650-1749\", lambda df: (df.year>1650) & (df.year<=1750)),\n",
    "    (\"<1650\", lambda df:  df.year<=1650),\n",
    "]\n",
    "\n",
    "haus_cantons = [\n",
    "    (\"all\", lambda df: df.pop_haus>0),\n",
    "    (\"VD\", lambda df: df.canton ==\"VD\"),\n",
    "    (\"others\", lambda df: df.canton !=\"VD\"),\n",
    "]\n",
    "\n",
    "boxplot_condition(dfduplicates, haus_units, ax1)\n",
    "ax1.set_title(\"conversion factor boxplot depending on type of unit\")\n",
    "boxplot_condition(dfduplicates, haus_years, ax2)\n",
    "ax2.set_title(\"conversion factor boxplot depending on year of observation\")\n",
    "boxplot_condition(dfduplicates, haus_cantons, ax3)\n",
    "ax3.set_title(\"conversion factor boxplot depending on canton\")\n",
    "None"
   ]
  },
  {
   "cell_type": "code",
   "execution_count": null,
   "metadata": {},
   "outputs": [],
   "source": [
    "conversion_factor = np.mean(dfduplicates.ratio)\n",
    "print(f\"conversion factor: {np.round(conversion_factor,3)}\")"
   ]
  },
  {
   "cell_type": "code",
   "execution_count": null,
   "metadata": {},
   "outputs": [],
   "source": []
  },
  {
   "cell_type": "markdown",
   "metadata": {},
   "source": [
    "### Doing the conversion\n",
    "\n",
    "Remove non-Einw data in duplicated years, as well as non-accepted units"
   ]
  },
  {
   "cell_type": "code",
   "execution_count": null,
   "metadata": {},
   "outputs": [],
   "source": [
    "for c in communes:\n",
    "    c.remove_duplicates()\n",
    "    c.remove_non_accepted_units()\n",
    "    c.convert_hab_years_to_Einw(conversion_factor)"
   ]
  },
  {
   "cell_type": "code",
   "execution_count": null,
   "metadata": {},
   "outputs": [],
   "source": []
  },
  {
   "cell_type": "code",
   "execution_count": null,
   "metadata": {},
   "outputs": [],
   "source": [
    "c = communes[9]\n",
    "duplicates = c.detect_duplicated_years()\n",
    "c.hab_year"
   ]
  },
  {
   "cell_type": "code",
   "execution_count": null,
   "metadata": {},
   "outputs": [],
   "source": []
  },
  {
   "cell_type": "code",
   "execution_count": null,
   "metadata": {},
   "outputs": [],
   "source": []
  },
  {
   "cell_type": "code",
   "execution_count": null,
   "metadata": {},
   "outputs": [],
   "source": []
  },
  {
   "cell_type": "code",
   "execution_count": null,
   "metadata": {},
   "outputs": [],
   "source": [
    "units = [hy.unit  for c in communes for hy in c.hab_year if hy.year<1850]\n",
    "\n",
    "print(\"Number of each type of units:\")\n",
    "print(pd.Series(units).value_counts())"
   ]
  },
  {
   "cell_type": "code",
   "execution_count": null,
   "metadata": {},
   "outputs": [],
   "source": [
    "dfcommunes = pd.DataFrame([c.to_json() for c in communes])[columns_communes]\n",
    "\n",
    "#pd.set_option('display.max_rows', None) \n",
    "dfcommunes"
   ]
  },
  {
   "cell_type": "code",
   "execution_count": null,
   "metadata": {},
   "outputs": [],
   "source": [
    "dfcommunes.to_csv(\"communes_units_converted.csv\", sep=\";\")"
   ]
  },
  {
   "cell_type": "code",
   "execution_count": null,
   "metadata": {},
   "outputs": [],
   "source": [
    "with open('communes_units_converted.json', 'w') as json_file:\n",
    "  json.dump([c.to_json() for c in communes], json_file)"
   ]
  },
  {
   "cell_type": "code",
   "execution_count": null,
   "metadata": {},
   "outputs": [],
   "source": [
    "communes[0]"
   ]
  },
  {
   "cell_type": "code",
   "execution_count": null,
   "metadata": {},
   "outputs": [],
   "source": []
  },
  {
   "cell_type": "code",
   "execution_count": null,
   "metadata": {},
   "outputs": [],
   "source": []
  },
  {
   "cell_type": "markdown",
   "metadata": {},
   "source": [
    "# Doing the interpolation\n",
    "\n",
    "Create an interpolator per commune:"
   ]
  },
  {
   "cell_type": "code",
   "execution_count": null,
   "metadata": {},
   "outputs": [],
   "source": []
  },
  {
   "cell_type": "markdown",
   "metadata": {},
   "source": [
    "add hab_year interpolator to each commune:"
   ]
  },
  {
   "cell_type": "code",
   "execution_count": null,
   "metadata": {},
   "outputs": [],
   "source": [
    "for c in communes:\n",
    "    c.create_hab_year_interpolator()\n",
    "    "
   ]
  },
  {
   "cell_type": "markdown",
   "metadata": {},
   "source": [
    "## How to extrapolate for communes without data?\n",
    "\n",
    "### options:\n",
    "- compute year-by-year growth rates for communes with data\n",
    "   -> use the average per-year growth rate to find a growth-rates time series back in time\n",
    "   -> use this growth-rate time series to go back in time\n",
    "- use timespans of size X: compute average growth rate in each timespan\n",
    "    -> go back in time with those growth rates\n",
    "    \n",
    "### proposition:\n",
    "- each hy has a \"type\" entry with possible values: \"original\", \"interpolated\", \"extrapolated\"\n",
    "- define function compute_growth_rate(c,y1,y2):\n",
    "    return None if no data surrounding y1, y2\n",
    "    return growth rate if it exists\n",
    "- iterate over communes and timespans\n",
    "    compute_growth_rate(...)\n",
    "    -> growth rate of timespan = avg of computed growth rate\n",
    "    \n",
    "## TODO:\n",
    "- compute_growth((x1,y1),(x2,y2))\n",
    "- compute_growth(c,y1,y2)"
   ]
  },
  {
   "cell_type": "code",
   "execution_count": null,
   "metadata": {},
   "outputs": [],
   "source": [
    "all_years = np.unique(sorted(years))"
   ]
  },
  {
   "cell_type": "markdown",
   "metadata": {},
   "source": [
    "compute all the intermediate year:"
   ]
  },
  {
   "cell_type": "code",
   "execution_count": null,
   "metadata": {},
   "outputs": [],
   "source": [
    "for c in communes:\n",
    "    for y in all_years:\n",
    "        hy = c.hy_interpolator(y)\n",
    "        if hy and not c.has_pop_data(y) :\n",
    "            c.hab_year.append(hy)\n",
    "    #print(f\"{i} {c.name}\")\n",
    "    c.order_hab_year()\n",
    "    for hy in c.hab_year:\n",
    "        hy.compute_growth_rate()\n",
    "            "
   ]
  },
  {
   "cell_type": "code",
   "execution_count": null,
   "metadata": {},
   "outputs": [],
   "source": [
    "communes[0].hab_year"
   ]
  },
  {
   "cell_type": "code",
   "execution_count": null,
   "metadata": {},
   "outputs": [],
   "source": []
  },
  {
   "cell_type": "code",
   "execution_count": null,
   "metadata": {},
   "outputs": [],
   "source": []
  },
  {
   "cell_type": "code",
   "execution_count": null,
   "metadata": {},
   "outputs": [],
   "source": []
  },
  {
   "cell_type": "markdown",
   "metadata": {},
   "source": [
    "# TEST"
   ]
  },
  {
   "cell_type": "code",
   "execution_count": null,
   "metadata": {},
   "outputs": [],
   "source": [
    "communes[32].order_hab_year()"
   ]
  },
  {
   "cell_type": "code",
   "execution_count": null,
   "metadata": {},
   "outputs": [],
   "source": [
    "hys = communes[32].hab_year\n",
    "hys"
   ]
  },
  {
   "cell_type": "code",
   "execution_count": null,
   "metadata": {},
   "outputs": [],
   "source": [
    "sorted(hys,key=lambda hy: hy.year)"
   ]
  },
  {
   "cell_type": "code",
   "execution_count": null,
   "metadata": {},
   "outputs": [],
   "source": [
    "hys[0].next"
   ]
  },
  {
   "cell_type": "code",
   "execution_count": null,
   "metadata": {},
   "outputs": [],
   "source": [
    "hys[0].to_json()"
   ]
  },
  {
   "cell_type": "code",
   "execution_count": null,
   "metadata": {},
   "outputs": [],
   "source": [
    "hys[0].next"
   ]
  },
  {
   "cell_type": "code",
   "execution_count": null,
   "metadata": {},
   "outputs": [],
   "source": [
    "hys[0].previous"
   ]
  },
  {
   "cell_type": "code",
   "execution_count": null,
   "metadata": {},
   "outputs": [],
   "source": [
    "da = {\"hu\":32, 55:123}\n",
    "da"
   ]
  },
  {
   "cell_type": "code",
   "execution_count": null,
   "metadata": {},
   "outputs": [],
   "source": [
    "del da[\"hu\"]"
   ]
  },
  {
   "cell_type": "code",
   "execution_count": null,
   "metadata": {},
   "outputs": [],
   "source": [
    "da"
   ]
  },
  {
   "cell_type": "code",
   "execution_count": null,
   "metadata": {},
   "outputs": [],
   "source": [
    "json = copy.deepcopy(hys[1].__dict__)\n",
    "json"
   ]
  },
  {
   "cell_type": "code",
   "execution_count": null,
   "metadata": {},
   "outputs": [],
   "source": [
    "\"next\" in json"
   ]
  },
  {
   "cell_type": "code",
   "execution_count": null,
   "metadata": {},
   "outputs": [],
   "source": [
    "del json[\"next\"]"
   ]
  },
  {
   "cell_type": "code",
   "execution_count": null,
   "metadata": {},
   "outputs": [],
   "source": [
    "json"
   ]
  },
  {
   "cell_type": "code",
   "execution_count": null,
   "metadata": {},
   "outputs": [],
   "source": [
    "if \"previous\" in json:\n",
    "    del json[\"previous\"]\n",
    "json"
   ]
  },
  {
   "cell_type": "code",
   "execution_count": null,
   "metadata": {},
   "outputs": [],
   "source": [
    "\n",
    "if \"next\" in json:\n",
    "    del json[\"next\"]\n",
    "if \"previous\" in json:\n",
    "    del json[\"previous\"]"
   ]
  },
  {
   "cell_type": "code",
   "execution_count": null,
   "metadata": {},
   "outputs": [],
   "source": []
  },
  {
   "cell_type": "code",
   "execution_count": null,
   "metadata": {},
   "outputs": [],
   "source": [
    "hys[2].to_json()"
   ]
  },
  {
   "cell_type": "code",
   "execution_count": null,
   "metadata": {},
   "outputs": [],
   "source": []
  }
 ],
 "metadata": {
  "kernelspec": {
   "display_name": "Python 3",
   "language": "python",
   "name": "python3"
  },
  "language_info": {
   "codemirror_mode": {
    "name": "ipython",
    "version": 3
   },
   "file_extension": ".py",
   "mimetype": "text/x-python",
   "name": "python",
   "nbconvert_exporter": "python",
   "pygments_lexer": "ipython3",
   "version": "3.7.3"
  }
 },
 "nbformat": 4,
 "nbformat_minor": 2
}
